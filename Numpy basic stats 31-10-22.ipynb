{
 "cells": [
  {
   "cell_type": "code",
   "execution_count": 1,
   "id": "d7e1fe68",
   "metadata": {},
   "outputs": [],
   "source": [
    "import numpy as np"
   ]
  },
  {
   "cell_type": "code",
   "execution_count": 4,
   "id": "94d394ba",
   "metadata": {},
   "outputs": [],
   "source": [
    "a=np.array([34,56,79,99,43,25,66,44,78])"
   ]
  },
  {
   "cell_type": "code",
   "execution_count": 5,
   "id": "b2b2a7f8",
   "metadata": {},
   "outputs": [
    {
     "data": {
      "text/plain": [
       "array([34, 56, 79, 99, 43, 25, 66, 44, 78])"
      ]
     },
     "execution_count": 5,
     "metadata": {},
     "output_type": "execute_result"
    }
   ],
   "source": [
    "a"
   ]
  },
  {
   "cell_type": "code",
   "execution_count": 6,
   "id": "90481fbe",
   "metadata": {},
   "outputs": [
    {
     "data": {
      "text/plain": [
       "78.0"
      ]
     },
     "execution_count": 6,
     "metadata": {},
     "output_type": "execute_result"
    }
   ],
   "source": [
    "np.percentile(a,75)"
   ]
  },
  {
   "cell_type": "code",
   "execution_count": 7,
   "id": "51189b07",
   "metadata": {},
   "outputs": [
    {
     "data": {
      "text/plain": [
       "64.0"
      ]
     },
     "execution_count": 7,
     "metadata": {},
     "output_type": "execute_result"
    }
   ],
   "source": [
    "np.percentile(a,60)"
   ]
  },
  {
   "cell_type": "code",
   "execution_count": 8,
   "id": "316c7ac0",
   "metadata": {},
   "outputs": [
    {
     "data": {
      "text/plain": [
       "51.2"
      ]
     },
     "execution_count": 8,
     "metadata": {},
     "output_type": "execute_result"
    }
   ],
   "source": [
    "np.percentile(a,45)"
   ]
  },
  {
   "cell_type": "code",
   "execution_count": 9,
   "id": "f4c6f133",
   "metadata": {},
   "outputs": [],
   "source": [
    "age=np.array([12,15,32,44,56,78,89,91,92,95])"
   ]
  },
  {
   "cell_type": "code",
   "execution_count": 10,
   "id": "7f12bd98",
   "metadata": {},
   "outputs": [
    {
     "data": {
      "text/plain": [
       "67.0"
      ]
     },
     "execution_count": 10,
     "metadata": {},
     "output_type": "execute_result"
    }
   ],
   "source": [
    "np.percentile(age,50)"
   ]
  },
  {
   "cell_type": "code",
   "execution_count": 11,
   "id": "2dba6aee",
   "metadata": {},
   "outputs": [
    {
     "data": {
      "text/plain": [
       "89.6"
      ]
     },
     "execution_count": 11,
     "metadata": {},
     "output_type": "execute_result"
    }
   ],
   "source": [
    "np.percentile(age,70)"
   ]
  },
  {
   "cell_type": "code",
   "execution_count": null,
   "id": "51156b2a",
   "metadata": {},
   "outputs": [],
   "source": []
  }
 ],
 "metadata": {
  "kernelspec": {
   "display_name": "Python 3 (ipykernel)",
   "language": "python",
   "name": "python3"
  },
  "language_info": {
   "codemirror_mode": {
    "name": "ipython",
    "version": 3
   },
   "file_extension": ".py",
   "mimetype": "text/x-python",
   "name": "python",
   "nbconvert_exporter": "python",
   "pygments_lexer": "ipython3",
   "version": "3.9.12"
  }
 },
 "nbformat": 4,
 "nbformat_minor": 5
}
