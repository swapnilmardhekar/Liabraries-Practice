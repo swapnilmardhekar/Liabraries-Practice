{
 "cells": [
  {
   "cell_type": "code",
   "execution_count": 4,
   "id": "71954766",
   "metadata": {},
   "outputs": [],
   "source": [
    "import numpy as np"
   ]
  },
  {
   "cell_type": "code",
   "execution_count": 5,
   "id": "da22923e",
   "metadata": {},
   "outputs": [],
   "source": [
    "a=np.array([123,234,345])"
   ]
  },
  {
   "cell_type": "code",
   "execution_count": 6,
   "id": "3f75b883",
   "metadata": {},
   "outputs": [
    {
     "data": {
      "text/plain": [
       "array([123, 234, 345])"
      ]
     },
     "execution_count": 6,
     "metadata": {},
     "output_type": "execute_result"
    }
   ],
   "source": [
    "a"
   ]
  },
  {
   "cell_type": "code",
   "execution_count": 7,
   "id": "08906874",
   "metadata": {},
   "outputs": [
    {
     "data": {
      "text/plain": [
       "(3,)"
      ]
     },
     "execution_count": 7,
     "metadata": {},
     "output_type": "execute_result"
    }
   ],
   "source": [
    "a.shape"
   ]
  },
  {
   "cell_type": "code",
   "execution_count": 8,
   "id": "f9f1ebca",
   "metadata": {},
   "outputs": [
    {
     "data": {
      "text/plain": [
       "345"
      ]
     },
     "execution_count": 8,
     "metadata": {},
     "output_type": "execute_result"
    }
   ],
   "source": [
    "a.max()"
   ]
  },
  {
   "cell_type": "code",
   "execution_count": 9,
   "id": "07e7010b",
   "metadata": {},
   "outputs": [
    {
     "data": {
      "text/plain": [
       "123"
      ]
     },
     "execution_count": 9,
     "metadata": {},
     "output_type": "execute_result"
    }
   ],
   "source": [
    "a.min()"
   ]
  },
  {
   "cell_type": "code",
   "execution_count": 10,
   "id": "87f49f38",
   "metadata": {},
   "outputs": [],
   "source": [
    "b=np.array([[12,34,45,56],[76,45,87,98]])"
   ]
  },
  {
   "cell_type": "code",
   "execution_count": 11,
   "id": "04ace5bf",
   "metadata": {},
   "outputs": [
    {
     "data": {
      "text/plain": [
       "array([[12, 34, 45, 56],\n",
       "       [76, 45, 87, 98]])"
      ]
     },
     "execution_count": 11,
     "metadata": {},
     "output_type": "execute_result"
    }
   ],
   "source": [
    "b"
   ]
  },
  {
   "cell_type": "code",
   "execution_count": 12,
   "id": "9a8ae21c",
   "metadata": {},
   "outputs": [
    {
     "data": {
      "text/plain": [
       "array([[12, 34],\n",
       "       [45, 56],\n",
       "       [76, 45],\n",
       "       [87, 98]])"
      ]
     },
     "execution_count": 12,
     "metadata": {},
     "output_type": "execute_result"
    }
   ],
   "source": [
    "b.reshape(4,2)"
   ]
  },
  {
   "cell_type": "code",
   "execution_count": 13,
   "id": "186b9ac2",
   "metadata": {},
   "outputs": [
    {
     "data": {
      "text/plain": [
       "2"
      ]
     },
     "execution_count": 13,
     "metadata": {},
     "output_type": "execute_result"
    }
   ],
   "source": [
    "b.ndim"
   ]
  },
  {
   "cell_type": "code",
   "execution_count": 14,
   "id": "4ed219eb",
   "metadata": {},
   "outputs": [
    {
     "data": {
      "text/plain": [
       "(2, 4)"
      ]
     },
     "execution_count": 14,
     "metadata": {},
     "output_type": "execute_result"
    }
   ],
   "source": [
    "b.shape"
   ]
  },
  {
   "cell_type": "code",
   "execution_count": 15,
   "id": "965c952f",
   "metadata": {},
   "outputs": [
    {
     "data": {
      "text/plain": [
       "dtype('int32')"
      ]
     },
     "execution_count": 15,
     "metadata": {},
     "output_type": "execute_result"
    }
   ],
   "source": [
    "b.dtype"
   ]
  },
  {
   "cell_type": "code",
   "execution_count": 16,
   "id": "99d13a00",
   "metadata": {},
   "outputs": [],
   "source": [
    "b=np.array([[12,34,45,56],[76,45,87,98]],dtype='int64')"
   ]
  },
  {
   "cell_type": "code",
   "execution_count": 17,
   "id": "cb075f7d",
   "metadata": {},
   "outputs": [
    {
     "data": {
      "text/plain": [
       "dtype('int64')"
      ]
     },
     "execution_count": 17,
     "metadata": {},
     "output_type": "execute_result"
    }
   ],
   "source": [
    "b.dtype"
   ]
  },
  {
   "cell_type": "code",
   "execution_count": 18,
   "id": "512ce7ca",
   "metadata": {},
   "outputs": [],
   "source": [
    "b=np.array([[12,34,45,56],[76,45,87,98]],dtype='float32')"
   ]
  },
  {
   "cell_type": "code",
   "execution_count": 19,
   "id": "0ec0fc79",
   "metadata": {},
   "outputs": [
    {
     "data": {
      "text/plain": [
       "dtype('float32')"
      ]
     },
     "execution_count": 19,
     "metadata": {},
     "output_type": "execute_result"
    }
   ],
   "source": [
    "b.dtype"
   ]
  },
  {
   "cell_type": "code",
   "execution_count": 20,
   "id": "bea93de4",
   "metadata": {},
   "outputs": [
    {
     "data": {
      "text/plain": [
       "4"
      ]
     },
     "execution_count": 20,
     "metadata": {},
     "output_type": "execute_result"
    }
   ],
   "source": [
    "b.itemsize"
   ]
  },
  {
   "cell_type": "code",
   "execution_count": 21,
   "id": "f6f98c49",
   "metadata": {},
   "outputs": [
    {
     "data": {
      "text/plain": [
       "array([[12., 34.],\n",
       "       [45., 56.],\n",
       "       [76., 45.],\n",
       "       [87., 98.]], dtype=float32)"
      ]
     },
     "execution_count": 21,
     "metadata": {},
     "output_type": "execute_result"
    }
   ],
   "source": [
    "b.reshape(4,2)"
   ]
  },
  {
   "cell_type": "code",
   "execution_count": 22,
   "id": "ec535176",
   "metadata": {},
   "outputs": [],
   "source": [
    "b=np.arange(16)"
   ]
  },
  {
   "cell_type": "code",
   "execution_count": 23,
   "id": "cbaae775",
   "metadata": {},
   "outputs": [
    {
     "data": {
      "text/plain": [
       "array([ 0,  1,  2,  3,  4,  5,  6,  7,  8,  9, 10, 11, 12, 13, 14, 15])"
      ]
     },
     "execution_count": 23,
     "metadata": {},
     "output_type": "execute_result"
    }
   ],
   "source": [
    "b"
   ]
  },
  {
   "cell_type": "code",
   "execution_count": 24,
   "id": "a982e532",
   "metadata": {},
   "outputs": [],
   "source": [
    "b=np.zeros(4)"
   ]
  },
  {
   "cell_type": "code",
   "execution_count": 25,
   "id": "85d937f8",
   "metadata": {},
   "outputs": [
    {
     "data": {
      "text/plain": [
       "array([0., 0., 0., 0.])"
      ]
     },
     "execution_count": 25,
     "metadata": {},
     "output_type": "execute_result"
    }
   ],
   "source": [
    "b"
   ]
  },
  {
   "cell_type": "code",
   "execution_count": 26,
   "id": "fa55b0f6",
   "metadata": {},
   "outputs": [],
   "source": [
    "b=np.ones(5)"
   ]
  },
  {
   "cell_type": "code",
   "execution_count": 27,
   "id": "09c8f852",
   "metadata": {},
   "outputs": [
    {
     "data": {
      "text/plain": [
       "array([1., 1., 1., 1., 1.])"
      ]
     },
     "execution_count": 27,
     "metadata": {},
     "output_type": "execute_result"
    }
   ],
   "source": [
    "b"
   ]
  },
  {
   "cell_type": "code",
   "execution_count": 28,
   "id": "ae15c34d",
   "metadata": {},
   "outputs": [],
   "source": [
    "b=np.ones(5,dtype='int32')"
   ]
  },
  {
   "cell_type": "code",
   "execution_count": 29,
   "id": "f28b5dd5",
   "metadata": {},
   "outputs": [
    {
     "data": {
      "text/plain": [
       "array([1, 1, 1, 1, 1])"
      ]
     },
     "execution_count": 29,
     "metadata": {},
     "output_type": "execute_result"
    }
   ],
   "source": [
    "b"
   ]
  },
  {
   "cell_type": "code",
   "execution_count": 30,
   "id": "49c4c0a9",
   "metadata": {},
   "outputs": [],
   "source": [
    "b=np.ones(5,dtype='int')"
   ]
  },
  {
   "cell_type": "code",
   "execution_count": 31,
   "id": "881fa5d7",
   "metadata": {},
   "outputs": [
    {
     "data": {
      "text/plain": [
       "array([1, 1, 1, 1, 1])"
      ]
     },
     "execution_count": 31,
     "metadata": {},
     "output_type": "execute_result"
    }
   ],
   "source": [
    "b"
   ]
  },
  {
   "cell_type": "code",
   "execution_count": 32,
   "id": "ccf7d313",
   "metadata": {},
   "outputs": [],
   "source": [
    "c=np.array([16,18,22,48])"
   ]
  },
  {
   "cell_type": "code",
   "execution_count": 33,
   "id": "7b55cd83",
   "metadata": {},
   "outputs": [
    {
     "data": {
      "text/plain": [
       "array([16, 18, 22, 48])"
      ]
     },
     "execution_count": 33,
     "metadata": {},
     "output_type": "execute_result"
    }
   ],
   "source": [
    "c"
   ]
  },
  {
   "cell_type": "code",
   "execution_count": 34,
   "id": "58e97ff0",
   "metadata": {},
   "outputs": [],
   "source": [
    "d=np.array([24,12,36,44])"
   ]
  },
  {
   "cell_type": "code",
   "execution_count": 35,
   "id": "f70889d0",
   "metadata": {},
   "outputs": [
    {
     "data": {
      "text/plain": [
       "array([24, 12, 36, 44])"
      ]
     },
     "execution_count": 35,
     "metadata": {},
     "output_type": "execute_result"
    }
   ],
   "source": [
    "d"
   ]
  },
  {
   "cell_type": "code",
   "execution_count": 36,
   "id": "fb9becc4",
   "metadata": {},
   "outputs": [],
   "source": [
    "x=c*d"
   ]
  },
  {
   "cell_type": "code",
   "execution_count": 37,
   "id": "83f2bcef",
   "metadata": {},
   "outputs": [
    {
     "data": {
      "text/plain": [
       "array([ 384,  216,  792, 2112])"
      ]
     },
     "execution_count": 37,
     "metadata": {},
     "output_type": "execute_result"
    }
   ],
   "source": [
    "x"
   ]
  },
  {
   "cell_type": "code",
   "execution_count": 38,
   "id": "4899301b",
   "metadata": {},
   "outputs": [],
   "source": [
    "x=c*4"
   ]
  },
  {
   "cell_type": "code",
   "execution_count": 39,
   "id": "be19b06e",
   "metadata": {},
   "outputs": [
    {
     "data": {
      "text/plain": [
       "array([ 64,  72,  88, 192])"
      ]
     },
     "execution_count": 39,
     "metadata": {},
     "output_type": "execute_result"
    }
   ],
   "source": [
    "x"
   ]
  },
  {
   "cell_type": "code",
   "execution_count": 40,
   "id": "5898ee17",
   "metadata": {},
   "outputs": [],
   "source": [
    "x=c-2"
   ]
  },
  {
   "cell_type": "code",
   "execution_count": 41,
   "id": "9e645e21",
   "metadata": {},
   "outputs": [
    {
     "data": {
      "text/plain": [
       "array([14, 16, 20, 46])"
      ]
     },
     "execution_count": 41,
     "metadata": {},
     "output_type": "execute_result"
    }
   ],
   "source": [
    "x"
   ]
  },
  {
   "cell_type": "code",
   "execution_count": 42,
   "id": "3185fc0c",
   "metadata": {},
   "outputs": [
    {
     "name": "stdout",
     "output_type": "stream",
     "text": [
      "[18 20 24 50]\n"
     ]
    }
   ],
   "source": [
    "x=c+2\n",
    "print(x)"
   ]
  },
  {
   "cell_type": "code",
   "execution_count": 43,
   "id": "52853059",
   "metadata": {},
   "outputs": [
    {
     "name": "stdout",
     "output_type": "stream",
     "text": [
      "[ 8.  9. 11. 24.]\n"
     ]
    }
   ],
   "source": [
    "x=c/2\n",
    "print(x)"
   ]
  },
  {
   "cell_type": "code",
   "execution_count": 44,
   "id": "43ca14ce",
   "metadata": {},
   "outputs": [
    {
     "name": "stdout",
     "output_type": "stream",
     "text": [
      "[ 8  9 11 24]\n"
     ]
    }
   ],
   "source": [
    "x=c//2\n",
    "print(x)"
   ]
  },
  {
   "cell_type": "code",
   "execution_count": 45,
   "id": "b68ddd35",
   "metadata": {},
   "outputs": [
    {
     "name": "stdout",
     "output_type": "stream",
     "text": [
      "[0 0 0 0]\n"
     ]
    }
   ],
   "source": [
    "x=c%2\n",
    "print(x)"
   ]
  },
  {
   "cell_type": "code",
   "execution_count": 46,
   "id": "91754b40",
   "metadata": {},
   "outputs": [],
   "source": [
    "x=d*2"
   ]
  },
  {
   "cell_type": "code",
   "execution_count": 47,
   "id": "bf12f740",
   "metadata": {},
   "outputs": [
    {
     "data": {
      "text/plain": [
       "array([48, 24, 72, 88])"
      ]
     },
     "execution_count": 47,
     "metadata": {},
     "output_type": "execute_result"
    }
   ],
   "source": [
    "x"
   ]
  },
  {
   "cell_type": "code",
   "execution_count": 48,
   "id": "980e1471",
   "metadata": {},
   "outputs": [
    {
     "name": "stdout",
     "output_type": "stream",
     "text": [
      "[16 18 22 48]\n"
     ]
    }
   ],
   "source": [
    "x=c-d\n",
    "print(c)"
   ]
  },
  {
   "cell_type": "code",
   "execution_count": 49,
   "id": "699604b9",
   "metadata": {},
   "outputs": [
    {
     "data": {
      "text/plain": [
       "array([16, 18, 22, 48])"
      ]
     },
     "execution_count": 49,
     "metadata": {},
     "output_type": "execute_result"
    }
   ],
   "source": [
    "c\n"
   ]
  },
  {
   "cell_type": "code",
   "execution_count": 50,
   "id": "61d2dfb2",
   "metadata": {},
   "outputs": [
    {
     "data": {
      "text/plain": [
       "array([24, 12, 36, 44])"
      ]
     },
     "execution_count": 50,
     "metadata": {},
     "output_type": "execute_result"
    }
   ],
   "source": [
    "d"
   ]
  },
  {
   "cell_type": "code",
   "execution_count": 51,
   "id": "361d6d5d",
   "metadata": {},
   "outputs": [
    {
     "data": {
      "text/plain": [
       "array([40, 30, 58, 92])"
      ]
     },
     "execution_count": 51,
     "metadata": {},
     "output_type": "execute_result"
    }
   ],
   "source": [
    "np.add(c,d)"
   ]
  },
  {
   "cell_type": "code",
   "execution_count": 52,
   "id": "cd756bda",
   "metadata": {},
   "outputs": [
    {
     "name": "stdout",
     "output_type": "stream",
     "text": [
      "[ 8 -6 14 -4]\n"
     ]
    }
   ],
   "source": [
    "x=d-c\n",
    "print(x)"
   ]
  },
  {
   "cell_type": "code",
   "execution_count": 53,
   "id": "f7a4550d",
   "metadata": {},
   "outputs": [],
   "source": [
    "x=c**2"
   ]
  },
  {
   "cell_type": "code",
   "execution_count": 54,
   "id": "653b4b4b",
   "metadata": {},
   "outputs": [
    {
     "data": {
      "text/plain": [
       "array([ 256,  324,  484, 2304], dtype=int32)"
      ]
     },
     "execution_count": 54,
     "metadata": {},
     "output_type": "execute_result"
    }
   ],
   "source": [
    "x"
   ]
  },
  {
   "cell_type": "code",
   "execution_count": 55,
   "id": "cb0ee237",
   "metadata": {},
   "outputs": [],
   "source": [
    "x=c^2"
   ]
  },
  {
   "cell_type": "code",
   "execution_count": 56,
   "id": "461f8098",
   "metadata": {},
   "outputs": [
    {
     "data": {
      "text/plain": [
       "array([18, 16, 20, 50], dtype=int32)"
      ]
     },
     "execution_count": 56,
     "metadata": {},
     "output_type": "execute_result"
    }
   ],
   "source": [
    "x"
   ]
  },
  {
   "cell_type": "code",
   "execution_count": 57,
   "id": "8407c4dc",
   "metadata": {},
   "outputs": [
    {
     "name": "stdout",
     "output_type": "stream",
     "text": [
      "[[0.57625149 0.47124317]\n",
      " [0.12449032 0.6166886 ]\n",
      " [0.39401069 0.28251353]]\n"
     ]
    }
   ],
   "source": [
    "x=np.random.rand(3,2)\n",
    "print(x)"
   ]
  },
  {
   "cell_type": "code",
   "execution_count": 58,
   "id": "aa92036f",
   "metadata": {},
   "outputs": [],
   "source": [
    "x=np.random.randint(2,220)"
   ]
  },
  {
   "cell_type": "code",
   "execution_count": 59,
   "id": "a516d598",
   "metadata": {
    "scrolled": true
   },
   "outputs": [
    {
     "data": {
      "text/plain": [
       "50"
      ]
     },
     "execution_count": 59,
     "metadata": {},
     "output_type": "execute_result"
    }
   ],
   "source": [
    "x"
   ]
  },
  {
   "cell_type": "code",
   "execution_count": 60,
   "id": "ca10b63d",
   "metadata": {},
   "outputs": [],
   "source": [
    "x=np.random.randint(2,220,100)"
   ]
  },
  {
   "cell_type": "code",
   "execution_count": 61,
   "id": "7b8867ae",
   "metadata": {},
   "outputs": [
    {
     "data": {
      "text/plain": [
       "array([ 27, 214,  69,  59, 202,   3, 219,   2, 206,  25, 165, 112,  60,\n",
       "        39, 101,  16, 107, 100,  15, 212, 114,  65,  36,  22, 174,  48,\n",
       "       109, 178, 185, 113,  46, 124, 161,  75, 136, 158, 159,  65, 152,\n",
       "        52,  54,  18, 117,  51,  74, 164, 200, 219, 106, 170,  20, 184,\n",
       "        13, 187,   6, 155,   5, 178,  14, 159, 190, 136,  91, 197, 101,\n",
       "       177,  91,  85, 182,  78, 119, 205, 152,  26, 207,  94, 134,  20,\n",
       "       211, 195,  49, 102,  78, 214,  50,  30, 206,  32,  74, 182,  13,\n",
       "        24, 186,  78,  62,  25,  70,  96, 158, 195])"
      ]
     },
     "execution_count": 61,
     "metadata": {},
     "output_type": "execute_result"
    }
   ],
   "source": [
    "x"
   ]
  },
  {
   "cell_type": "code",
   "execution_count": 62,
   "id": "aa12ddc8",
   "metadata": {},
   "outputs": [],
   "source": [
    "x=np.random.randint(2,220,1)"
   ]
  },
  {
   "cell_type": "code",
   "execution_count": 63,
   "id": "24763849",
   "metadata": {},
   "outputs": [
    {
     "data": {
      "text/plain": [
       "array([26])"
      ]
     },
     "execution_count": 63,
     "metadata": {},
     "output_type": "execute_result"
    }
   ],
   "source": [
    "x"
   ]
  },
  {
   "cell_type": "code",
   "execution_count": 64,
   "id": "23dbcf7c",
   "metadata": {
    "scrolled": true
   },
   "outputs": [
    {
     "data": {
      "text/plain": [
       "array([[35, 42, 83, 64, 94],\n",
       "       [28, 53, 49, 76, 35],\n",
       "       [63, 69, 93, 73, 13],\n",
       "       [24, 99, 26, 47, 89]])"
      ]
     },
     "execution_count": 64,
     "metadata": {},
     "output_type": "execute_result"
    }
   ],
   "source": [
    "x= np.random.randint(1,100, size=(4,5))\n",
    "x"
   ]
  },
  {
   "cell_type": "code",
   "execution_count": 66,
   "id": "5408e4a5",
   "metadata": {},
   "outputs": [],
   "source": [
    "x=np.random.randint(4,200,101)"
   ]
  },
  {
   "cell_type": "code",
   "execution_count": 67,
   "id": "454246ea",
   "metadata": {
    "scrolled": true
   },
   "outputs": [
    {
     "data": {
      "text/plain": [
       "array([185,  36,  82,  92,  82, 182, 162,  13, 109,  15,  20,  13, 169,\n",
       "       191, 110, 150,  26,  64,  82, 111, 103,  50,  77,  12,  42, 131,\n",
       "       181, 196, 115,  37,  12, 112,  67, 118, 147, 140,  72,  77, 176,\n",
       "        51, 103,  83, 151,  88, 119, 120, 110,  37,  93,  34, 171,  74,\n",
       "       114, 114,  40,  53, 141,  38, 146,  50,  24,  12, 178, 182, 181,\n",
       "        81, 160, 146, 164,   6, 144,  33, 169, 124,   9, 113, 186, 174,\n",
       "        30,  53, 189, 177, 101, 113, 123, 161,  55,  86, 116, 140,  17,\n",
       "       105, 143,  27, 131, 193, 147,  65,  14,  81,  57])"
      ]
     },
     "execution_count": 67,
     "metadata": {},
     "output_type": "execute_result"
    }
   ],
   "source": [
    "x"
   ]
  },
  {
   "cell_type": "code",
   "execution_count": 68,
   "id": "3a5dd486",
   "metadata": {},
   "outputs": [],
   "source": [
    "x=np.random.randint(1,50, size=(5,5))"
   ]
  },
  {
   "cell_type": "code",
   "execution_count": 69,
   "id": "681b721e",
   "metadata": {},
   "outputs": [
    {
     "data": {
      "text/plain": [
       "array([[12, 17, 41, 21, 10],\n",
       "       [40, 19, 49,  9, 44],\n",
       "       [48,  7, 23, 25, 38],\n",
       "       [37, 26,  5, 35, 44],\n",
       "       [47,  1, 15, 34, 20]])"
      ]
     },
     "execution_count": 69,
     "metadata": {},
     "output_type": "execute_result"
    }
   ],
   "source": [
    "x"
   ]
  },
  {
   "cell_type": "code",
   "execution_count": 70,
   "id": "ab475710",
   "metadata": {},
   "outputs": [],
   "source": [
    "x=np.random.randn(1,50)"
   ]
  },
  {
   "cell_type": "code",
   "execution_count": 71,
   "id": "ce69bc67",
   "metadata": {},
   "outputs": [
    {
     "data": {
      "text/plain": [
       "array([[-1.65016484, -1.27547025,  1.11276445, -0.78627947, -0.70382939,\n",
       "        -0.08256909,  1.34047306, -1.23633986,  0.43082049, -0.65573717,\n",
       "         0.07045178,  1.84411849,  0.39063034,  0.32097011,  0.39930971,\n",
       "         0.09930373,  0.45518041,  0.97772016, -0.7984497 , -1.12560741,\n",
       "        -0.42432422, -1.18638784,  1.09323887, -0.78172823, -0.18625659,\n",
       "        -0.19249648,  0.13582335,  1.65725967, -0.44855335,  0.62295468,\n",
       "        -0.77723579,  1.95670962,  2.12788401,  0.3077165 , -0.95081418,\n",
       "        -1.21389857, -2.07843934, -0.25607668, -2.02866731, -0.1482874 ,\n",
       "         0.10383767,  0.25477741, -0.71200019, -0.89328376, -0.73025638,\n",
       "        -1.10777748,  0.0569854 ,  0.30451327, -0.08101179, -0.11745507]])"
      ]
     },
     "execution_count": 71,
     "metadata": {},
     "output_type": "execute_result"
    }
   ],
   "source": [
    "x"
   ]
  },
  {
   "cell_type": "code",
   "execution_count": 117,
   "id": "739b9b35",
   "metadata": {},
   "outputs": [],
   "source": [
    "x=np.random.randint(1,50,dtype='int32')"
   ]
  },
  {
   "cell_type": "code",
   "execution_count": 118,
   "id": "5b24ca9c",
   "metadata": {},
   "outputs": [
    {
     "data": {
      "text/plain": [
       "33"
      ]
     },
     "execution_count": 118,
     "metadata": {},
     "output_type": "execute_result"
    }
   ],
   "source": [
    "x"
   ]
  },
  {
   "cell_type": "code",
   "execution_count": 136,
   "id": "2aee24b5",
   "metadata": {},
   "outputs": [],
   "source": [
    "x=np.random.randint(1,50,size=[6,5])"
   ]
  },
  {
   "cell_type": "code",
   "execution_count": 137,
   "id": "640b2c42",
   "metadata": {},
   "outputs": [
    {
     "data": {
      "text/plain": [
       "array([[16, 37, 19,  3, 42],\n",
       "       [22, 17, 47, 10, 22],\n",
       "       [13, 43, 23, 33, 46],\n",
       "       [ 3, 26,  2, 38,  9],\n",
       "       [26, 15, 34,  3, 45],\n",
       "       [46,  2, 14, 30, 36]])"
      ]
     },
     "execution_count": 137,
     "metadata": {},
     "output_type": "execute_result"
    }
   ],
   "source": [
    "x"
   ]
  },
  {
   "cell_type": "code",
   "execution_count": null,
   "id": "a099eaa6",
   "metadata": {},
   "outputs": [],
   "source": []
  },
  {
   "cell_type": "code",
   "execution_count": null,
   "id": "0a9b776b",
   "metadata": {},
   "outputs": [],
   "source": []
  },
  {
   "cell_type": "code",
   "execution_count": null,
   "id": "df57ff83",
   "metadata": {},
   "outputs": [],
   "source": []
  },
  {
   "cell_type": "code",
   "execution_count": 72,
   "id": "805274ea",
   "metadata": {},
   "outputs": [
    {
     "ename": "AttributeError",
     "evalue": "module 'numpy.random' has no attribute 'randnint'",
     "output_type": "error",
     "traceback": [
      "\u001b[1;31m---------------------------------------------------------------------------\u001b[0m",
      "\u001b[1;31mAttributeError\u001b[0m                            Traceback (most recent call last)",
      "Input \u001b[1;32mIn [72]\u001b[0m, in \u001b[0;36m<cell line: 1>\u001b[1;34m()\u001b[0m\n\u001b[1;32m----> 1\u001b[0m x\u001b[38;5;241m=\u001b[39m\u001b[43mnp\u001b[49m\u001b[38;5;241;43m.\u001b[39;49m\u001b[43mrandom\u001b[49m\u001b[38;5;241;43m.\u001b[39;49m\u001b[43mrandnint\u001b[49m(\u001b[38;5;241m1\u001b[39m,\u001b[38;5;241m50\u001b[39m)\n",
      "\u001b[1;31mAttributeError\u001b[0m: module 'numpy.random' has no attribute 'randnint'"
     ]
    }
   ],
   "source": [
    "x=np.random.randnint(-1,50)"
   ]
  },
  {
   "cell_type": "code",
   "execution_count": 123,
   "id": "db182729",
   "metadata": {},
   "outputs": [],
   "source": [
    "x=np.random.randint(-50,-1,50)"
   ]
  },
  {
   "cell_type": "code",
   "execution_count": 124,
   "id": "f2aeffb0",
   "metadata": {},
   "outputs": [
    {
     "data": {
      "text/plain": [
       "array([-32,  -5,  -4, -10, -34, -12, -16, -16, -11,  -8, -33, -45, -28,\n",
       "        -6, -46,  -3, -20,  -3, -17, -42, -11, -18, -47, -25, -46, -15,\n",
       "        -3, -28, -29, -41, -30, -46, -23, -13, -15, -41, -43, -43, -46,\n",
       "       -26, -39, -42, -25, -26, -17, -40,  -9, -46, -49, -18])"
      ]
     },
     "execution_count": 124,
     "metadata": {},
     "output_type": "execute_result"
    }
   ],
   "source": [
    "x"
   ]
  },
  {
   "cell_type": "code",
   "execution_count": 86,
   "id": "a28028bf",
   "metadata": {},
   "outputs": [],
   "source": [
    "x=np.random.randint(1,50, dtype='int32')"
   ]
  },
  {
   "cell_type": "code",
   "execution_count": 87,
   "id": "804dfe5a",
   "metadata": {},
   "outputs": [
    {
     "data": {
      "text/plain": [
       "4"
      ]
     },
     "execution_count": 87,
     "metadata": {},
     "output_type": "execute_result"
    }
   ],
   "source": [
    "\n",
    "x"
   ]
  },
  {
   "cell_type": "code",
   "execution_count": 88,
   "id": "e79bcd38",
   "metadata": {},
   "outputs": [],
   "source": [
    "ab=np.array([43,56,78,98,34,62,88,84,44])"
   ]
  },
  {
   "cell_type": "code",
   "execution_count": 89,
   "id": "3209a928",
   "metadata": {},
   "outputs": [
    {
     "data": {
      "text/plain": [
       "array([43, 56, 78, 98, 34, 62, 88, 84, 44])"
      ]
     },
     "execution_count": 89,
     "metadata": {},
     "output_type": "execute_result"
    }
   ],
   "source": [
    "ab"
   ]
  },
  {
   "cell_type": "code",
   "execution_count": 90,
   "id": "b41bec6d",
   "metadata": {},
   "outputs": [
    {
     "data": {
      "text/plain": [
       "9"
      ]
     },
     "execution_count": 90,
     "metadata": {},
     "output_type": "execute_result"
    }
   ],
   "source": [
    "ab.size"
   ]
  },
  {
   "cell_type": "code",
   "execution_count": 91,
   "id": "7236858d",
   "metadata": {},
   "outputs": [
    {
     "data": {
      "text/plain": [
       "43"
      ]
     },
     "execution_count": 91,
     "metadata": {},
     "output_type": "execute_result"
    }
   ],
   "source": [
    "ab[0]"
   ]
  },
  {
   "cell_type": "code",
   "execution_count": 92,
   "id": "e9d2d634",
   "metadata": {},
   "outputs": [
    {
     "data": {
      "text/plain": [
       "44"
      ]
     },
     "execution_count": 92,
     "metadata": {},
     "output_type": "execute_result"
    }
   ],
   "source": [
    "ab[8]"
   ]
  },
  {
   "cell_type": "code",
   "execution_count": 93,
   "id": "8e14abfa",
   "metadata": {},
   "outputs": [
    {
     "data": {
      "text/plain": [
       "44"
      ]
     },
     "execution_count": 93,
     "metadata": {},
     "output_type": "execute_result"
    }
   ],
   "source": [
    "ab[-1]"
   ]
  },
  {
   "cell_type": "code",
   "execution_count": 94,
   "id": "a0a18c58",
   "metadata": {},
   "outputs": [
    {
     "data": {
      "text/plain": [
       "34"
      ]
     },
     "execution_count": 94,
     "metadata": {},
     "output_type": "execute_result"
    }
   ],
   "source": [
    "ab[-5]"
   ]
  },
  {
   "cell_type": "code",
   "execution_count": 95,
   "id": "67b31a0b",
   "metadata": {},
   "outputs": [
    {
     "data": {
      "text/plain": [
       "array([56, 78, 98])"
      ]
     },
     "execution_count": 95,
     "metadata": {},
     "output_type": "execute_result"
    }
   ],
   "source": [
    "ab[1:4]"
   ]
  },
  {
   "cell_type": "code",
   "execution_count": 96,
   "id": "75432f3a",
   "metadata": {},
   "outputs": [
    {
     "data": {
      "text/plain": [
       "array([78, 98, 34])"
      ]
     },
     "execution_count": 96,
     "metadata": {},
     "output_type": "execute_result"
    }
   ],
   "source": [
    "ab[2:5]"
   ]
  },
  {
   "cell_type": "code",
   "execution_count": 97,
   "id": "f656ce36",
   "metadata": {},
   "outputs": [
    {
     "data": {
      "text/plain": [
       "array([78, 98, 34, 62, 88, 84, 44])"
      ]
     },
     "execution_count": 97,
     "metadata": {},
     "output_type": "execute_result"
    }
   ],
   "source": [
    "ab[2:]"
   ]
  },
  {
   "cell_type": "code",
   "execution_count": 98,
   "id": "e41deb3a",
   "metadata": {},
   "outputs": [
    {
     "data": {
      "text/plain": [
       "array([43, 56, 78, 98])"
      ]
     },
     "execution_count": 98,
     "metadata": {},
     "output_type": "execute_result"
    }
   ],
   "source": [
    "ab[:4]"
   ]
  },
  {
   "cell_type": "code",
   "execution_count": 99,
   "id": "b1e8776d",
   "metadata": {},
   "outputs": [
    {
     "data": {
      "text/plain": [
       "array([62, 88, 84])"
      ]
     },
     "execution_count": 99,
     "metadata": {},
     "output_type": "execute_result"
    }
   ],
   "source": [
    "ab[-4:-1]"
   ]
  },
  {
   "cell_type": "code",
   "execution_count": 100,
   "id": "6507710f",
   "metadata": {},
   "outputs": [
    {
     "data": {
      "text/plain": [
       "array([], dtype=int32)"
      ]
     },
     "execution_count": 100,
     "metadata": {},
     "output_type": "execute_result"
    }
   ],
   "source": [
    "ab[-1:-5]"
   ]
  },
  {
   "cell_type": "code",
   "execution_count": 101,
   "id": "1bc45163",
   "metadata": {},
   "outputs": [
    {
     "data": {
      "text/plain": [
       "array([88, 84, 44])"
      ]
     },
     "execution_count": 101,
     "metadata": {},
     "output_type": "execute_result"
    }
   ],
   "source": [
    "ab[-3:]"
   ]
  },
  {
   "cell_type": "code",
   "execution_count": 102,
   "id": "c623d977",
   "metadata": {},
   "outputs": [
    {
     "data": {
      "text/plain": [
       "array([43, 56, 78, 98, 34, 62])"
      ]
     },
     "execution_count": 102,
     "metadata": {},
     "output_type": "execute_result"
    }
   ],
   "source": [
    "ab[:-3]"
   ]
  },
  {
   "cell_type": "code",
   "execution_count": 103,
   "id": "6c72744c",
   "metadata": {},
   "outputs": [
    {
     "data": {
      "text/plain": [
       "array([43, 56, 78, 98, 34, 62, 88, 84, 44])"
      ]
     },
     "execution_count": 103,
     "metadata": {},
     "output_type": "execute_result"
    }
   ],
   "source": [
    "ab[:]"
   ]
  },
  {
   "cell_type": "code",
   "execution_count": 104,
   "id": "501abed4",
   "metadata": {},
   "outputs": [],
   "source": [
    "x=np.array([2,4,8,12,44,88])"
   ]
  },
  {
   "cell_type": "code",
   "execution_count": 105,
   "id": "a9734af6",
   "metadata": {},
   "outputs": [
    {
     "data": {
      "text/plain": [
       "array([ 2,  4,  8, 12, 44, 88])"
      ]
     },
     "execution_count": 105,
     "metadata": {},
     "output_type": "execute_result"
    }
   ],
   "source": [
    "x"
   ]
  },
  {
   "cell_type": "code",
   "execution_count": 106,
   "id": "479eb53e",
   "metadata": {},
   "outputs": [
    {
     "data": {
      "text/plain": [
       "array([1.41421356, 2.        , 2.82842712, 3.46410162, 6.63324958,\n",
       "       9.38083152])"
      ]
     },
     "execution_count": 106,
     "metadata": {},
     "output_type": "execute_result"
    }
   ],
   "source": [
    "np.sqrt(x)"
   ]
  },
  {
   "cell_type": "code",
   "execution_count": 107,
   "id": "48ec9824",
   "metadata": {},
   "outputs": [
    {
     "ename": "ValueError",
     "evalue": "operands could not be broadcast together with shapes (6,) (9,) ",
     "output_type": "error",
     "traceback": [
      "\u001b[1;31m---------------------------------------------------------------------------\u001b[0m",
      "\u001b[1;31mValueError\u001b[0m                                Traceback (most recent call last)",
      "Input \u001b[1;32mIn [107]\u001b[0m, in \u001b[0;36m<cell line: 1>\u001b[1;34m()\u001b[0m\n\u001b[1;32m----> 1\u001b[0m np\u001b[38;5;241m.\u001b[39madd(\u001b[43mx\u001b[49m\u001b[38;5;241;43m+\u001b[39;49m\u001b[43mab\u001b[49m)\n",
      "\u001b[1;31mValueError\u001b[0m: operands could not be broadcast together with shapes (6,) (9,) "
     ]
    }
   ],
   "source": [
    "np.add(x+ab)"
   ]
  },
  {
   "cell_type": "code",
   "execution_count": 108,
   "id": "135bdeea",
   "metadata": {},
   "outputs": [],
   "source": [
    "bc=np.array([12,22,44,55,64,66])"
   ]
  },
  {
   "cell_type": "code",
   "execution_count": 109,
   "id": "b68e34d6",
   "metadata": {},
   "outputs": [
    {
     "data": {
      "text/plain": [
       "array([12, 22, 44, 55, 64, 66])"
      ]
     },
     "execution_count": 109,
     "metadata": {},
     "output_type": "execute_result"
    }
   ],
   "source": [
    "bc"
   ]
  },
  {
   "cell_type": "code",
   "execution_count": 111,
   "id": "6a40f857",
   "metadata": {},
   "outputs": [
    {
     "data": {
      "text/plain": [
       "array([ 14,  26,  52,  67, 108, 154])"
      ]
     },
     "execution_count": 111,
     "metadata": {},
     "output_type": "execute_result"
    }
   ],
   "source": [
    "np.add(x,bc)"
   ]
  },
  {
   "cell_type": "code",
   "execution_count": 112,
   "id": "d2cfbef5",
   "metadata": {},
   "outputs": [],
   "source": [
    "x=np.array([[44,87,np.nan,78],[98,np.nan,54,99]])"
   ]
  },
  {
   "cell_type": "code",
   "execution_count": 113,
   "id": "ab5def55",
   "metadata": {},
   "outputs": [
    {
     "data": {
      "text/plain": [
       "array([[44., 87., nan, 78.],\n",
       "       [98., nan, 54., 99.]])"
      ]
     },
     "execution_count": 113,
     "metadata": {},
     "output_type": "execute_result"
    }
   ],
   "source": [
    "x"
   ]
  },
  {
   "cell_type": "code",
   "execution_count": 114,
   "id": "0a4e383e",
   "metadata": {},
   "outputs": [
    {
     "data": {
      "text/plain": [
       "array([[1.28516001e+19, 6.07603023e+37,            nan, 7.49841700e+33],\n",
       "       [3.63797095e+42,            nan, 2.83075330e+23, 9.88903032e+42]])"
      ]
     },
     "execution_count": 114,
     "metadata": {},
     "output_type": "execute_result"
    }
   ],
   "source": [
    "np.exp(x)"
   ]
  },
  {
   "cell_type": "code",
   "execution_count": null,
   "id": "0aab3f7b",
   "metadata": {},
   "outputs": [],
   "source": []
  }
 ],
 "metadata": {
  "kernelspec": {
   "display_name": "Python 3 (ipykernel)",
   "language": "python",
   "name": "python3"
  },
  "language_info": {
   "codemirror_mode": {
    "name": "ipython",
    "version": 3
   },
   "file_extension": ".py",
   "mimetype": "text/x-python",
   "name": "python",
   "nbconvert_exporter": "python",
   "pygments_lexer": "ipython3",
   "version": "3.9.12"
  }
 },
 "nbformat": 4,
 "nbformat_minor": 5
}
