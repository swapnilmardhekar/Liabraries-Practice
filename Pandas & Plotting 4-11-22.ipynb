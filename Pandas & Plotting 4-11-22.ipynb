{
 "cells": [
  {
   "cell_type": "code",
   "execution_count": 56,
   "id": "6915da74",
   "metadata": {},
   "outputs": [],
   "source": [
    "import numpy as np\n",
    "import pandas as pd\n",
    "import matplotlib.pyplot as plt\n",
    "import seaborn as sns\n",
    "import scipy.stats as sci\n",
    "import warnings\n",
    "warnings.filterwarnings('ignore')"
   ]
  },
  {
   "cell_type": "code",
   "execution_count": 11,
   "id": "4d63b6d5",
   "metadata": {},
   "outputs": [],
   "source": [
    "file=pd.read_csv('Entry Level Project Sheet - 3.1-data-sheet-udemy-courses-web-development.csv', header=0, names=['cid', 'title', 'url', 'price', 'subs', 'reviews', 'lectures', 'lvl', 'rating', 'time', 'timestamp', 'sub', 'date', 'type'], parse_dates=['date'])"
   ]
  },
  {
   "cell_type": "code",
   "execution_count": 18,
   "id": "d800278b",
   "metadata": {},
   "outputs": [
    {
     "data": {
      "text/html": [
       "<div>\n",
       "<style scoped>\n",
       "    .dataframe tbody tr th:only-of-type {\n",
       "        vertical-align: middle;\n",
       "    }\n",
       "\n",
       "    .dataframe tbody tr th {\n",
       "        vertical-align: top;\n",
       "    }\n",
       "\n",
       "    .dataframe thead th {\n",
       "        text-align: right;\n",
       "    }\n",
       "</style>\n",
       "<table border=\"1\" class=\"dataframe\">\n",
       "  <thead>\n",
       "    <tr style=\"text-align: right;\">\n",
       "      <th></th>\n",
       "      <th>cid</th>\n",
       "      <th>title</th>\n",
       "      <th>url</th>\n",
       "      <th>price</th>\n",
       "      <th>subs</th>\n",
       "      <th>reviews</th>\n",
       "      <th>lectures</th>\n",
       "      <th>lvl</th>\n",
       "      <th>rating</th>\n",
       "      <th>time</th>\n",
       "      <th>timestamp</th>\n",
       "      <th>sub</th>\n",
       "      <th>date</th>\n",
       "      <th>type</th>\n",
       "    </tr>\n",
       "  </thead>\n",
       "  <tbody>\n",
       "    <tr>\n",
       "      <th>0</th>\n",
       "      <td>41295</td>\n",
       "      <td>Learn HTML5 Programming From Scratch</td>\n",
       "      <td>https://www.udemy.com/learn-html5-programming-...</td>\n",
       "      <td>0</td>\n",
       "      <td>268923</td>\n",
       "      <td>8629</td>\n",
       "      <td>45</td>\n",
       "      <td>Beginner Level</td>\n",
       "      <td>0.82</td>\n",
       "      <td>10.5</td>\n",
       "      <td>2013-02-14T07:03:41Z</td>\n",
       "      <td>Web Development</td>\n",
       "      <td>2013-02-14</td>\n",
       "      <td>Free</td>\n",
       "    </tr>\n",
       "    <tr>\n",
       "      <th>1</th>\n",
       "      <td>59014</td>\n",
       "      <td>Coding for Entrepreneurs Basic</td>\n",
       "      <td>https://www.udemy.com/coding-for-entrepreneurs...</td>\n",
       "      <td>0</td>\n",
       "      <td>161029</td>\n",
       "      <td>279</td>\n",
       "      <td>27</td>\n",
       "      <td>Expert Level</td>\n",
       "      <td>0.69</td>\n",
       "      <td>3.5</td>\n",
       "      <td>2013-06-09T15:51:55Z</td>\n",
       "      <td>Web Development</td>\n",
       "      <td>2013-06-09</td>\n",
       "      <td>Free</td>\n",
       "    </tr>\n",
       "    <tr>\n",
       "      <th>2</th>\n",
       "      <td>625204</td>\n",
       "      <td>The Web Developer Bootcamp</td>\n",
       "      <td>https://www.udemy.com/the-web-developer-bootcamp/</td>\n",
       "      <td>200</td>\n",
       "      <td>121584</td>\n",
       "      <td>27445</td>\n",
       "      <td>342</td>\n",
       "      <td>Beginner Level</td>\n",
       "      <td>0.89</td>\n",
       "      <td>43.0</td>\n",
       "      <td>2015-11-02T21:13:27Z</td>\n",
       "      <td>Web Development</td>\n",
       "      <td>2015-11-02</td>\n",
       "      <td>Paid</td>\n",
       "    </tr>\n",
       "    <tr>\n",
       "      <th>3</th>\n",
       "      <td>173548</td>\n",
       "      <td>Build Your First Website in 1 Week with HTML5 ...</td>\n",
       "      <td>https://www.udemy.com/build-your-first-website...</td>\n",
       "      <td>0</td>\n",
       "      <td>120291</td>\n",
       "      <td>5924</td>\n",
       "      <td>30</td>\n",
       "      <td>All Levels</td>\n",
       "      <td>0.78</td>\n",
       "      <td>3.0</td>\n",
       "      <td>2014-04-08T16:21:30Z</td>\n",
       "      <td>Web Development</td>\n",
       "      <td>2014-04-08</td>\n",
       "      <td>Free</td>\n",
       "    </tr>\n",
       "    <tr>\n",
       "      <th>4</th>\n",
       "      <td>764164</td>\n",
       "      <td>The Complete Web Developer Course 2.0</td>\n",
       "      <td>https://www.udemy.com/the-complete-web-develop...</td>\n",
       "      <td>200</td>\n",
       "      <td>114512</td>\n",
       "      <td>22412</td>\n",
       "      <td>304</td>\n",
       "      <td>Beginner Level</td>\n",
       "      <td>0.55</td>\n",
       "      <td>30.5</td>\n",
       "      <td>2016-03-08T22:28:36Z</td>\n",
       "      <td>Web Development</td>\n",
       "      <td>2016-03-08</td>\n",
       "      <td>Paid</td>\n",
       "    </tr>\n",
       "  </tbody>\n",
       "</table>\n",
       "</div>"
      ],
      "text/plain": [
       "      cid                                              title  \\\n",
       "0   41295               Learn HTML5 Programming From Scratch   \n",
       "1   59014                     Coding for Entrepreneurs Basic   \n",
       "2  625204                         The Web Developer Bootcamp   \n",
       "3  173548  Build Your First Website in 1 Week with HTML5 ...   \n",
       "4  764164              The Complete Web Developer Course 2.0   \n",
       "\n",
       "                                                 url  price    subs  reviews  \\\n",
       "0  https://www.udemy.com/learn-html5-programming-...      0  268923     8629   \n",
       "1  https://www.udemy.com/coding-for-entrepreneurs...      0  161029      279   \n",
       "2  https://www.udemy.com/the-web-developer-bootcamp/    200  121584    27445   \n",
       "3  https://www.udemy.com/build-your-first-website...      0  120291     5924   \n",
       "4  https://www.udemy.com/the-complete-web-develop...    200  114512    22412   \n",
       "\n",
       "   lectures             lvl  rating  time             timestamp  \\\n",
       "0        45  Beginner Level    0.82  10.5  2013-02-14T07:03:41Z   \n",
       "1        27    Expert Level    0.69   3.5  2013-06-09T15:51:55Z   \n",
       "2       342  Beginner Level    0.89  43.0  2015-11-02T21:13:27Z   \n",
       "3        30      All Levels    0.78   3.0  2014-04-08T16:21:30Z   \n",
       "4       304  Beginner Level    0.55  30.5  2016-03-08T22:28:36Z   \n",
       "\n",
       "               sub       date  type  \n",
       "0  Web Development 2013-02-14  Free  \n",
       "1  Web Development 2013-06-09  Free  \n",
       "2  Web Development 2015-11-02  Paid  \n",
       "3  Web Development 2014-04-08  Free  \n",
       "4  Web Development 2016-03-08  Paid  "
      ]
     },
     "execution_count": 18,
     "metadata": {},
     "output_type": "execute_result"
    }
   ],
   "source": [
    "file.head()"
   ]
  },
  {
   "cell_type": "code",
   "execution_count": 19,
   "id": "72f6239e",
   "metadata": {
    "scrolled": true
   },
   "outputs": [
    {
     "data": {
      "text/html": [
       "<div>\n",
       "<style scoped>\n",
       "    .dataframe tbody tr th:only-of-type {\n",
       "        vertical-align: middle;\n",
       "    }\n",
       "\n",
       "    .dataframe tbody tr th {\n",
       "        vertical-align: top;\n",
       "    }\n",
       "\n",
       "    .dataframe thead th {\n",
       "        text-align: right;\n",
       "    }\n",
       "</style>\n",
       "<table border=\"1\" class=\"dataframe\">\n",
       "  <thead>\n",
       "    <tr style=\"text-align: right;\">\n",
       "      <th></th>\n",
       "      <th>cid</th>\n",
       "      <th>title</th>\n",
       "      <th>url</th>\n",
       "      <th>price</th>\n",
       "      <th>subs</th>\n",
       "      <th>reviews</th>\n",
       "      <th>lectures</th>\n",
       "      <th>lvl</th>\n",
       "      <th>rating</th>\n",
       "      <th>time</th>\n",
       "      <th>timestamp</th>\n",
       "      <th>sub</th>\n",
       "      <th>date</th>\n",
       "      <th>type</th>\n",
       "    </tr>\n",
       "  </thead>\n",
       "  <tbody>\n",
       "    <tr>\n",
       "      <th>3671</th>\n",
       "      <td>885413</td>\n",
       "      <td>Foundations of Investing</td>\n",
       "      <td>https://www.udemy.com/foundations-of-investing/</td>\n",
       "      <td>40</td>\n",
       "      <td>0</td>\n",
       "      <td>0</td>\n",
       "      <td>18</td>\n",
       "      <td>Beginner Level</td>\n",
       "      <td>0.95</td>\n",
       "      <td>2.0</td>\n",
       "      <td>2016-07-27T21:07:46Z</td>\n",
       "      <td>Business Finance</td>\n",
       "      <td>2016-07-27</td>\n",
       "      <td>Paid</td>\n",
       "    </tr>\n",
       "    <tr>\n",
       "      <th>3672</th>\n",
       "      <td>1231958</td>\n",
       "      <td>60 Minutes to Fundamental Accounting Skills</td>\n",
       "      <td>https://www.udemy.com/60-minute-fundamental-ac...</td>\n",
       "      <td>75</td>\n",
       "      <td>0</td>\n",
       "      <td>0</td>\n",
       "      <td>9</td>\n",
       "      <td>All Levels</td>\n",
       "      <td>0.95</td>\n",
       "      <td>2.5</td>\n",
       "      <td>2017-06-28T21:55:29Z</td>\n",
       "      <td>Business Finance</td>\n",
       "      <td>2017-06-28</td>\n",
       "      <td>Paid</td>\n",
       "    </tr>\n",
       "    <tr>\n",
       "      <th>3673</th>\n",
       "      <td>1057040</td>\n",
       "      <td>Teeter-Totter Accounting</td>\n",
       "      <td>https://www.udemy.com/teeter-totter-accounting/</td>\n",
       "      <td>90</td>\n",
       "      <td>0</td>\n",
       "      <td>0</td>\n",
       "      <td>12</td>\n",
       "      <td>Intermediate Level</td>\n",
       "      <td>0.36</td>\n",
       "      <td>1.0</td>\n",
       "      <td>2017-02-08T22:15:56Z</td>\n",
       "      <td>Business Finance</td>\n",
       "      <td>2017-02-08</td>\n",
       "      <td>Paid</td>\n",
       "    </tr>\n",
       "    <tr>\n",
       "      <th>3674</th>\n",
       "      <td>1258666</td>\n",
       "      <td>Financial Statement Auditing Cycles</td>\n",
       "      <td>https://www.udemy.com/financial-statement-audi...</td>\n",
       "      <td>50</td>\n",
       "      <td>0</td>\n",
       "      <td>0</td>\n",
       "      <td>9</td>\n",
       "      <td>All Levels</td>\n",
       "      <td>0.15</td>\n",
       "      <td>2.0</td>\n",
       "      <td>2017-06-29T23:20:10Z</td>\n",
       "      <td>Business Finance</td>\n",
       "      <td>2017-06-29</td>\n",
       "      <td>Paid</td>\n",
       "    </tr>\n",
       "    <tr>\n",
       "      <th>3675</th>\n",
       "      <td>1232282</td>\n",
       "      <td>The Cash Flow Statement - An Introduction</td>\n",
       "      <td>https://www.udemy.com/cash-flow-statement-intr...</td>\n",
       "      <td>50</td>\n",
       "      <td>0</td>\n",
       "      <td>0</td>\n",
       "      <td>10</td>\n",
       "      <td>All Levels</td>\n",
       "      <td>0.18</td>\n",
       "      <td>1.5</td>\n",
       "      <td>2017-06-28T16:05:51Z</td>\n",
       "      <td>Business Finance</td>\n",
       "      <td>2017-06-28</td>\n",
       "      <td>Paid</td>\n",
       "    </tr>\n",
       "  </tbody>\n",
       "</table>\n",
       "</div>"
      ],
      "text/plain": [
       "          cid                                        title  \\\n",
       "3671   885413                     Foundations of Investing   \n",
       "3672  1231958  60 Minutes to Fundamental Accounting Skills   \n",
       "3673  1057040                     Teeter-Totter Accounting   \n",
       "3674  1258666          Financial Statement Auditing Cycles   \n",
       "3675  1232282    The Cash Flow Statement - An Introduction   \n",
       "\n",
       "                                                    url  price  subs  reviews  \\\n",
       "3671    https://www.udemy.com/foundations-of-investing/     40     0        0   \n",
       "3672  https://www.udemy.com/60-minute-fundamental-ac...     75     0        0   \n",
       "3673    https://www.udemy.com/teeter-totter-accounting/     90     0        0   \n",
       "3674  https://www.udemy.com/financial-statement-audi...     50     0        0   \n",
       "3675  https://www.udemy.com/cash-flow-statement-intr...     50     0        0   \n",
       "\n",
       "      lectures                 lvl  rating  time             timestamp  \\\n",
       "3671        18      Beginner Level    0.95   2.0  2016-07-27T21:07:46Z   \n",
       "3672         9          All Levels    0.95   2.5  2017-06-28T21:55:29Z   \n",
       "3673        12  Intermediate Level    0.36   1.0  2017-02-08T22:15:56Z   \n",
       "3674         9          All Levels    0.15   2.0  2017-06-29T23:20:10Z   \n",
       "3675        10          All Levels    0.18   1.5  2017-06-28T16:05:51Z   \n",
       "\n",
       "                   sub       date  type  \n",
       "3671  Business Finance 2016-07-27  Paid  \n",
       "3672  Business Finance 2017-06-28  Paid  \n",
       "3673  Business Finance 2017-02-08  Paid  \n",
       "3674  Business Finance 2017-06-29  Paid  \n",
       "3675  Business Finance 2017-06-28  Paid  "
      ]
     },
     "execution_count": 19,
     "metadata": {},
     "output_type": "execute_result"
    }
   ],
   "source": [
    "df.tail()"
   ]
  },
  {
   "cell_type": "code",
   "execution_count": 13,
   "id": "8c5a43d8",
   "metadata": {},
   "outputs": [],
   "source": [
    "df=pd.DataFrame(file)"
   ]
  },
  {
   "cell_type": "code",
   "execution_count": 14,
   "id": "b8113054",
   "metadata": {},
   "outputs": [
    {
     "data": {
      "text/plain": [
       "Index(['cid', 'title', 'url', 'price', 'subs', 'reviews', 'lectures', 'lvl',\n",
       "       'rating', 'time', 'timestamp', 'sub', 'date', 'type'],\n",
       "      dtype='object')"
      ]
     },
     "execution_count": 14,
     "metadata": {},
     "output_type": "execute_result"
    }
   ],
   "source": [
    "df.columns"
   ]
  },
  {
   "cell_type": "code",
   "execution_count": 15,
   "id": "3101d4b6",
   "metadata": {},
   "outputs": [
    {
     "data": {
      "text/plain": [
       "cid                   int64\n",
       "title                object\n",
       "url                  object\n",
       "price                 int64\n",
       "subs                  int64\n",
       "reviews               int64\n",
       "lectures              int64\n",
       "lvl                  object\n",
       "rating              float64\n",
       "time                float64\n",
       "timestamp            object\n",
       "sub                  object\n",
       "date         datetime64[ns]\n",
       "type                 object\n",
       "dtype: object"
      ]
     },
     "execution_count": 15,
     "metadata": {},
     "output_type": "execute_result"
    }
   ],
   "source": [
    "df.dtypes"
   ]
  },
  {
   "cell_type": "code",
   "execution_count": 16,
   "id": "38f5f39f",
   "metadata": {},
   "outputs": [
    {
     "data": {
      "text/plain": [
       "cid          3676\n",
       "title        3676\n",
       "url          3676\n",
       "price        3676\n",
       "subs         3676\n",
       "reviews      3676\n",
       "lectures     3676\n",
       "lvl          3676\n",
       "rating       3676\n",
       "time         3676\n",
       "timestamp    3676\n",
       "sub          3676\n",
       "date         3676\n",
       "type         3676\n",
       "dtype: int64"
      ]
     },
     "execution_count": 16,
     "metadata": {},
     "output_type": "execute_result"
    }
   ],
   "source": [
    "df.count()"
   ]
  },
  {
   "cell_type": "code",
   "execution_count": 17,
   "id": "5402be6d",
   "metadata": {},
   "outputs": [
    {
     "data": {
      "text/plain": [
       "cid          0\n",
       "title        0\n",
       "url          0\n",
       "price        0\n",
       "subs         0\n",
       "reviews      0\n",
       "lectures     0\n",
       "lvl          0\n",
       "rating       0\n",
       "time         0\n",
       "timestamp    0\n",
       "sub          0\n",
       "date         0\n",
       "type         0\n",
       "dtype: int64"
      ]
     },
     "execution_count": 17,
     "metadata": {},
     "output_type": "execute_result"
    }
   ],
   "source": [
    "df.isnull().sum()"
   ]
  },
  {
   "cell_type": "code",
   "execution_count": 20,
   "id": "ffe60cb4",
   "metadata": {},
   "outputs": [
    {
     "data": {
      "text/plain": [
       "array(['Learn HTML5 Programming From Scratch',\n",
       "       'Coding for Entrepreneurs Basic', 'The Web Developer Bootcamp',\n",
       "       ..., 'Teeter-Totter Accounting',\n",
       "       'Financial Statement Auditing Cycles',\n",
       "       'The Cash Flow Statement - An Introduction'], dtype=object)"
      ]
     },
     "execution_count": 20,
     "metadata": {},
     "output_type": "execute_result"
    }
   ],
   "source": [
    "df['title'].unique()"
   ]
  },
  {
   "cell_type": "code",
   "execution_count": 23,
   "id": "4a1ef09f",
   "metadata": {},
   "outputs": [
    {
     "data": {
      "text/plain": [
       "3663"
      ]
     },
     "execution_count": 23,
     "metadata": {},
     "output_type": "execute_result"
    }
   ],
   "source": [
    "df['title'].nunique()"
   ]
  },
  {
   "cell_type": "code",
   "execution_count": 24,
   "id": "93285b00",
   "metadata": {},
   "outputs": [
    {
     "data": {
      "text/plain": [
       "array(['Beginner Level', 'Expert Level', 'All Levels',\n",
       "       'Intermediate Level'], dtype=object)"
      ]
     },
     "execution_count": 24,
     "metadata": {},
     "output_type": "execute_result"
    }
   ],
   "source": [
    "df['lvl'].unique()"
   ]
  },
  {
   "cell_type": "code",
   "execution_count": 25,
   "id": "f00bfc4b",
   "metadata": {},
   "outputs": [
    {
     "data": {
      "text/plain": [
       "4"
      ]
     },
     "execution_count": 25,
     "metadata": {},
     "output_type": "execute_result"
    }
   ],
   "source": [
    "df['lvl'].nunique()"
   ]
  },
  {
   "cell_type": "code",
   "execution_count": 26,
   "id": "0ae1dc85",
   "metadata": {},
   "outputs": [
    {
     "data": {
      "text/plain": [
       "array(['Web Development', 'Musical Instruments', 'Business Finance',\n",
       "       'Graphic Design'], dtype=object)"
      ]
     },
     "execution_count": 26,
     "metadata": {},
     "output_type": "execute_result"
    }
   ],
   "source": [
    "df['sub'].unique()"
   ]
  },
  {
   "cell_type": "code",
   "execution_count": 27,
   "id": "445ff491",
   "metadata": {},
   "outputs": [
    {
     "data": {
      "text/plain": [
       "4"
      ]
     },
     "execution_count": 27,
     "metadata": {},
     "output_type": "execute_result"
    }
   ],
   "source": [
    "df['sub'].nunique()"
   ]
  },
  {
   "cell_type": "code",
   "execution_count": 28,
   "id": "97e98f29",
   "metadata": {},
   "outputs": [
    {
     "data": {
      "text/plain": [
       "Index(['cid', 'title', 'url', 'price', 'subs', 'reviews', 'lectures', 'lvl',\n",
       "       'rating', 'time', 'timestamp', 'sub', 'date', 'type'],\n",
       "      dtype='object')"
      ]
     },
     "execution_count": 28,
     "metadata": {},
     "output_type": "execute_result"
    }
   ],
   "source": [
    "df.columns"
   ]
  },
  {
   "cell_type": "code",
   "execution_count": 29,
   "id": "562d72e7",
   "metadata": {},
   "outputs": [
    {
     "data": {
      "text/html": [
       "<div>\n",
       "<style scoped>\n",
       "    .dataframe tbody tr th:only-of-type {\n",
       "        vertical-align: middle;\n",
       "    }\n",
       "\n",
       "    .dataframe tbody tr th {\n",
       "        vertical-align: top;\n",
       "    }\n",
       "\n",
       "    .dataframe thead th {\n",
       "        text-align: right;\n",
       "    }\n",
       "</style>\n",
       "<table border=\"1\" class=\"dataframe\">\n",
       "  <thead>\n",
       "    <tr style=\"text-align: right;\">\n",
       "      <th></th>\n",
       "      <th>cid</th>\n",
       "      <th>title</th>\n",
       "      <th>url</th>\n",
       "      <th>price</th>\n",
       "      <th>subs</th>\n",
       "      <th>reviews</th>\n",
       "      <th>lectures</th>\n",
       "      <th>lvl</th>\n",
       "      <th>rating</th>\n",
       "      <th>time</th>\n",
       "      <th>timestamp</th>\n",
       "      <th>sub</th>\n",
       "      <th>date</th>\n",
       "      <th>type</th>\n",
       "    </tr>\n",
       "  </thead>\n",
       "  <tbody>\n",
       "    <tr>\n",
       "      <th>0</th>\n",
       "      <td>41295</td>\n",
       "      <td>Learn HTML5 Programming From Scratch</td>\n",
       "      <td>https://www.udemy.com/learn-html5-programming-...</td>\n",
       "      <td>0</td>\n",
       "      <td>268923</td>\n",
       "      <td>8629</td>\n",
       "      <td>45</td>\n",
       "      <td>Beginner Level</td>\n",
       "      <td>0.82</td>\n",
       "      <td>10.5</td>\n",
       "      <td>2013-02-14T07:03:41Z</td>\n",
       "      <td>Web Development</td>\n",
       "      <td>2013-02-14</td>\n",
       "      <td>Free</td>\n",
       "    </tr>\n",
       "    <tr>\n",
       "      <th>1</th>\n",
       "      <td>59014</td>\n",
       "      <td>Coding for Entrepreneurs Basic</td>\n",
       "      <td>https://www.udemy.com/coding-for-entrepreneurs...</td>\n",
       "      <td>0</td>\n",
       "      <td>161029</td>\n",
       "      <td>279</td>\n",
       "      <td>27</td>\n",
       "      <td>Expert Level</td>\n",
       "      <td>0.69</td>\n",
       "      <td>3.5</td>\n",
       "      <td>2013-06-09T15:51:55Z</td>\n",
       "      <td>Web Development</td>\n",
       "      <td>2013-06-09</td>\n",
       "      <td>Free</td>\n",
       "    </tr>\n",
       "    <tr>\n",
       "      <th>2</th>\n",
       "      <td>625204</td>\n",
       "      <td>The Web Developer Bootcamp</td>\n",
       "      <td>https://www.udemy.com/the-web-developer-bootcamp/</td>\n",
       "      <td>200</td>\n",
       "      <td>121584</td>\n",
       "      <td>27445</td>\n",
       "      <td>342</td>\n",
       "      <td>Beginner Level</td>\n",
       "      <td>0.89</td>\n",
       "      <td>43.0</td>\n",
       "      <td>2015-11-02T21:13:27Z</td>\n",
       "      <td>Web Development</td>\n",
       "      <td>2015-11-02</td>\n",
       "      <td>Paid</td>\n",
       "    </tr>\n",
       "    <tr>\n",
       "      <th>3</th>\n",
       "      <td>173548</td>\n",
       "      <td>Build Your First Website in 1 Week with HTML5 ...</td>\n",
       "      <td>https://www.udemy.com/build-your-first-website...</td>\n",
       "      <td>0</td>\n",
       "      <td>120291</td>\n",
       "      <td>5924</td>\n",
       "      <td>30</td>\n",
       "      <td>All Levels</td>\n",
       "      <td>0.78</td>\n",
       "      <td>3.0</td>\n",
       "      <td>2014-04-08T16:21:30Z</td>\n",
       "      <td>Web Development</td>\n",
       "      <td>2014-04-08</td>\n",
       "      <td>Free</td>\n",
       "    </tr>\n",
       "    <tr>\n",
       "      <th>4</th>\n",
       "      <td>764164</td>\n",
       "      <td>The Complete Web Developer Course 2.0</td>\n",
       "      <td>https://www.udemy.com/the-complete-web-develop...</td>\n",
       "      <td>200</td>\n",
       "      <td>114512</td>\n",
       "      <td>22412</td>\n",
       "      <td>304</td>\n",
       "      <td>Beginner Level</td>\n",
       "      <td>0.55</td>\n",
       "      <td>30.5</td>\n",
       "      <td>2016-03-08T22:28:36Z</td>\n",
       "      <td>Web Development</td>\n",
       "      <td>2016-03-08</td>\n",
       "      <td>Paid</td>\n",
       "    </tr>\n",
       "  </tbody>\n",
       "</table>\n",
       "</div>"
      ],
      "text/plain": [
       "      cid                                              title  \\\n",
       "0   41295               Learn HTML5 Programming From Scratch   \n",
       "1   59014                     Coding for Entrepreneurs Basic   \n",
       "2  625204                         The Web Developer Bootcamp   \n",
       "3  173548  Build Your First Website in 1 Week with HTML5 ...   \n",
       "4  764164              The Complete Web Developer Course 2.0   \n",
       "\n",
       "                                                 url  price    subs  reviews  \\\n",
       "0  https://www.udemy.com/learn-html5-programming-...      0  268923     8629   \n",
       "1  https://www.udemy.com/coding-for-entrepreneurs...      0  161029      279   \n",
       "2  https://www.udemy.com/the-web-developer-bootcamp/    200  121584    27445   \n",
       "3  https://www.udemy.com/build-your-first-website...      0  120291     5924   \n",
       "4  https://www.udemy.com/the-complete-web-develop...    200  114512    22412   \n",
       "\n",
       "   lectures             lvl  rating  time             timestamp  \\\n",
       "0        45  Beginner Level    0.82  10.5  2013-02-14T07:03:41Z   \n",
       "1        27    Expert Level    0.69   3.5  2013-06-09T15:51:55Z   \n",
       "2       342  Beginner Level    0.89  43.0  2015-11-02T21:13:27Z   \n",
       "3        30      All Levels    0.78   3.0  2014-04-08T16:21:30Z   \n",
       "4       304  Beginner Level    0.55  30.5  2016-03-08T22:28:36Z   \n",
       "\n",
       "               sub       date  type  \n",
       "0  Web Development 2013-02-14  Free  \n",
       "1  Web Development 2013-06-09  Free  \n",
       "2  Web Development 2015-11-02  Paid  \n",
       "3  Web Development 2014-04-08  Free  \n",
       "4  Web Development 2016-03-08  Paid  "
      ]
     },
     "execution_count": 29,
     "metadata": {},
     "output_type": "execute_result"
    }
   ],
   "source": [
    "df.head()"
   ]
  },
  {
   "cell_type": "code",
   "execution_count": 34,
   "id": "f4f0a297",
   "metadata": {},
   "outputs": [
    {
     "data": {
      "text/html": [
       "<div>\n",
       "<style scoped>\n",
       "    .dataframe tbody tr th:only-of-type {\n",
       "        vertical-align: middle;\n",
       "    }\n",
       "\n",
       "    .dataframe tbody tr th {\n",
       "        vertical-align: top;\n",
       "    }\n",
       "\n",
       "    .dataframe thead th {\n",
       "        text-align: right;\n",
       "    }\n",
       "</style>\n",
       "<table border=\"1\" class=\"dataframe\">\n",
       "  <thead>\n",
       "    <tr style=\"text-align: right;\">\n",
       "      <th></th>\n",
       "      <th>cid</th>\n",
       "      <th>price</th>\n",
       "      <th>subs</th>\n",
       "      <th>reviews</th>\n",
       "      <th>lectures</th>\n",
       "      <th>rating</th>\n",
       "      <th>time</th>\n",
       "    </tr>\n",
       "  </thead>\n",
       "  <tbody>\n",
       "    <tr>\n",
       "      <th>count</th>\n",
       "      <td>3.676000e+03</td>\n",
       "      <td>3676.000000</td>\n",
       "      <td>3676.000000</td>\n",
       "      <td>3676.000000</td>\n",
       "      <td>3676.000000</td>\n",
       "      <td>3676.000000</td>\n",
       "      <td>3676.000000</td>\n",
       "    </tr>\n",
       "    <tr>\n",
       "      <th>mean</th>\n",
       "      <td>6.757535e+05</td>\n",
       "      <td>66.115343</td>\n",
       "      <td>3199.260881</td>\n",
       "      <td>156.309848</td>\n",
       "      <td>40.129761</td>\n",
       "      <td>0.610868</td>\n",
       "      <td>4.096137</td>\n",
       "    </tr>\n",
       "    <tr>\n",
       "      <th>std</th>\n",
       "      <td>3.431304e+05</td>\n",
       "      <td>61.056073</td>\n",
       "      <td>9486.582966</td>\n",
       "      <td>935.674518</td>\n",
       "      <td>50.398507</td>\n",
       "      <td>0.334287</td>\n",
       "      <td>6.054948</td>\n",
       "    </tr>\n",
       "    <tr>\n",
       "      <th>min</th>\n",
       "      <td>8.324000e+03</td>\n",
       "      <td>0.000000</td>\n",
       "      <td>0.000000</td>\n",
       "      <td>0.000000</td>\n",
       "      <td>0.000000</td>\n",
       "      <td>0.000000</td>\n",
       "      <td>0.000000</td>\n",
       "    </tr>\n",
       "    <tr>\n",
       "      <th>25%</th>\n",
       "      <td>4.074740e+05</td>\n",
       "      <td>20.000000</td>\n",
       "      <td>112.000000</td>\n",
       "      <td>4.000000</td>\n",
       "      <td>15.000000</td>\n",
       "      <td>0.280000</td>\n",
       "      <td>1.000000</td>\n",
       "    </tr>\n",
       "    <tr>\n",
       "      <th>50%</th>\n",
       "      <td>6.876920e+05</td>\n",
       "      <td>45.000000</td>\n",
       "      <td>912.500000</td>\n",
       "      <td>18.000000</td>\n",
       "      <td>25.000000</td>\n",
       "      <td>0.760000</td>\n",
       "      <td>2.000000</td>\n",
       "    </tr>\n",
       "    <tr>\n",
       "      <th>75%</th>\n",
       "      <td>9.608140e+05</td>\n",
       "      <td>95.000000</td>\n",
       "      <td>2558.000000</td>\n",
       "      <td>67.000000</td>\n",
       "      <td>46.000000</td>\n",
       "      <td>0.930000</td>\n",
       "      <td>4.500000</td>\n",
       "    </tr>\n",
       "    <tr>\n",
       "      <th>max</th>\n",
       "      <td>1.282064e+06</td>\n",
       "      <td>200.000000</td>\n",
       "      <td>268923.000000</td>\n",
       "      <td>27445.000000</td>\n",
       "      <td>779.000000</td>\n",
       "      <td>1.000000</td>\n",
       "      <td>78.500000</td>\n",
       "    </tr>\n",
       "  </tbody>\n",
       "</table>\n",
       "</div>"
      ],
      "text/plain": [
       "                cid        price           subs       reviews     lectures  \\\n",
       "count  3.676000e+03  3676.000000    3676.000000   3676.000000  3676.000000   \n",
       "mean   6.757535e+05    66.115343    3199.260881    156.309848    40.129761   \n",
       "std    3.431304e+05    61.056073    9486.582966    935.674518    50.398507   \n",
       "min    8.324000e+03     0.000000       0.000000      0.000000     0.000000   \n",
       "25%    4.074740e+05    20.000000     112.000000      4.000000    15.000000   \n",
       "50%    6.876920e+05    45.000000     912.500000     18.000000    25.000000   \n",
       "75%    9.608140e+05    95.000000    2558.000000     67.000000    46.000000   \n",
       "max    1.282064e+06   200.000000  268923.000000  27445.000000   779.000000   \n",
       "\n",
       "            rating         time  \n",
       "count  3676.000000  3676.000000  \n",
       "mean      0.610868     4.096137  \n",
       "std       0.334287     6.054948  \n",
       "min       0.000000     0.000000  \n",
       "25%       0.280000     1.000000  \n",
       "50%       0.760000     2.000000  \n",
       "75%       0.930000     4.500000  \n",
       "max       1.000000    78.500000  "
      ]
     },
     "execution_count": 34,
     "metadata": {},
     "output_type": "execute_result"
    }
   ],
   "source": [
    "df.describe()"
   ]
  },
  {
   "cell_type": "code",
   "execution_count": 35,
   "id": "c85b67f5",
   "metadata": {},
   "outputs": [
    {
     "data": {
      "text/html": [
       "<div>\n",
       "<style scoped>\n",
       "    .dataframe tbody tr th:only-of-type {\n",
       "        vertical-align: middle;\n",
       "    }\n",
       "\n",
       "    .dataframe tbody tr th {\n",
       "        vertical-align: top;\n",
       "    }\n",
       "\n",
       "    .dataframe thead th {\n",
       "        text-align: right;\n",
       "    }\n",
       "</style>\n",
       "<table border=\"1\" class=\"dataframe\">\n",
       "  <thead>\n",
       "    <tr style=\"text-align: right;\">\n",
       "      <th></th>\n",
       "      <th>cid</th>\n",
       "      <th>title</th>\n",
       "      <th>url</th>\n",
       "      <th>price</th>\n",
       "      <th>subs</th>\n",
       "      <th>reviews</th>\n",
       "      <th>lectures</th>\n",
       "      <th>lvl</th>\n",
       "      <th>rating</th>\n",
       "      <th>time</th>\n",
       "      <th>timestamp</th>\n",
       "      <th>sub</th>\n",
       "      <th>date</th>\n",
       "      <th>type</th>\n",
       "    </tr>\n",
       "  </thead>\n",
       "  <tbody>\n",
       "    <tr>\n",
       "      <th>0</th>\n",
       "      <td>41295</td>\n",
       "      <td>Learn HTML5 Programming From Scratch</td>\n",
       "      <td>https://www.udemy.com/learn-html5-programming-...</td>\n",
       "      <td>0</td>\n",
       "      <td>268923</td>\n",
       "      <td>8629</td>\n",
       "      <td>45</td>\n",
       "      <td>Beginner Level</td>\n",
       "      <td>0.82</td>\n",
       "      <td>10.5</td>\n",
       "      <td>2013-02-14T07:03:41Z</td>\n",
       "      <td>Web Development</td>\n",
       "      <td>2013-02-14</td>\n",
       "      <td>Free</td>\n",
       "    </tr>\n",
       "    <tr>\n",
       "      <th>1</th>\n",
       "      <td>59014</td>\n",
       "      <td>Coding for Entrepreneurs Basic</td>\n",
       "      <td>https://www.udemy.com/coding-for-entrepreneurs...</td>\n",
       "      <td>0</td>\n",
       "      <td>161029</td>\n",
       "      <td>279</td>\n",
       "      <td>27</td>\n",
       "      <td>Expert Level</td>\n",
       "      <td>0.69</td>\n",
       "      <td>3.5</td>\n",
       "      <td>2013-06-09T15:51:55Z</td>\n",
       "      <td>Web Development</td>\n",
       "      <td>2013-06-09</td>\n",
       "      <td>Free</td>\n",
       "    </tr>\n",
       "    <tr>\n",
       "      <th>2</th>\n",
       "      <td>625204</td>\n",
       "      <td>The Web Developer Bootcamp</td>\n",
       "      <td>https://www.udemy.com/the-web-developer-bootcamp/</td>\n",
       "      <td>200</td>\n",
       "      <td>121584</td>\n",
       "      <td>27445</td>\n",
       "      <td>342</td>\n",
       "      <td>Beginner Level</td>\n",
       "      <td>0.89</td>\n",
       "      <td>43.0</td>\n",
       "      <td>2015-11-02T21:13:27Z</td>\n",
       "      <td>Web Development</td>\n",
       "      <td>2015-11-02</td>\n",
       "      <td>Paid</td>\n",
       "    </tr>\n",
       "  </tbody>\n",
       "</table>\n",
       "</div>"
      ],
      "text/plain": [
       "      cid                                 title  \\\n",
       "0   41295  Learn HTML5 Programming From Scratch   \n",
       "1   59014        Coding for Entrepreneurs Basic   \n",
       "2  625204            The Web Developer Bootcamp   \n",
       "\n",
       "                                                 url  price    subs  reviews  \\\n",
       "0  https://www.udemy.com/learn-html5-programming-...      0  268923     8629   \n",
       "1  https://www.udemy.com/coding-for-entrepreneurs...      0  161029      279   \n",
       "2  https://www.udemy.com/the-web-developer-bootcamp/    200  121584    27445   \n",
       "\n",
       "   lectures             lvl  rating  time             timestamp  \\\n",
       "0        45  Beginner Level    0.82  10.5  2013-02-14T07:03:41Z   \n",
       "1        27    Expert Level    0.69   3.5  2013-06-09T15:51:55Z   \n",
       "2       342  Beginner Level    0.89  43.0  2015-11-02T21:13:27Z   \n",
       "\n",
       "               sub       date  type  \n",
       "0  Web Development 2013-02-14  Free  \n",
       "1  Web Development 2013-06-09  Free  \n",
       "2  Web Development 2015-11-02  Paid  "
      ]
     },
     "execution_count": 35,
     "metadata": {},
     "output_type": "execute_result"
    }
   ],
   "source": [
    "df.head(3)"
   ]
  },
  {
   "cell_type": "code",
   "execution_count": 43,
   "id": "aefa5b43",
   "metadata": {},
   "outputs": [
    {
     "data": {
      "text/plain": [
       "<seaborn.axisgrid.FacetGrid at 0x161faca72e0>"
      ]
     },
     "execution_count": 43,
     "metadata": {},
     "output_type": "execute_result"
    },
    {
     "data": {
      "image/png": "[encoded data removed]",
      "text/plain": [
       "<Figure size 360x360 with 1 Axes>"
      ]
     },
     "metadata": {
      "needs_background": "light"
     },
     "output_type": "display_data"
    }
   ],
   "source": [
    "sns.catplot(x='price', y='reviews', data=df, kind='bar')"
   ]
  },
  {
   "cell_type": "code",
   "execution_count": 47,
   "id": "2adcb7fb",
   "metadata": {},
   "outputs": [
    {
     "data": {
      "text/plain": [
       "[<matplotlib.lines.Line2D at 0x161fd592a90>]"
      ]
     },
     "execution_count": 47,
     "metadata": {},
     "output_type": "execute_result"
    },
    {
     "data": {
      "image/png": "[encoded data removed]",
      "text/plain": [
       "<Figure size 432x288 with 1 Axes>"
      ]
     },
     "metadata": {
      "needs_background": "light"
     },
     "output_type": "display_data"
    }
   ],
   "source": [
    "plt.plot(df['price'], df['reviews'], '--g')"
   ]
  },
  {
   "cell_type": "code",
   "execution_count": 48,
   "id": "69d8d215",
   "metadata": {},
   "outputs": [
    {
     "data": {
      "text/html": [
       "<div>\n",
       "<style scoped>\n",
       "    .dataframe tbody tr th:only-of-type {\n",
       "        vertical-align: middle;\n",
       "    }\n",
       "\n",
       "    .dataframe tbody tr th {\n",
       "        vertical-align: top;\n",
       "    }\n",
       "\n",
       "    .dataframe thead th {\n",
       "        text-align: right;\n",
       "    }\n",
       "</style>\n",
       "<table border=\"1\" class=\"dataframe\">\n",
       "  <thead>\n",
       "    <tr style=\"text-align: right;\">\n",
       "      <th></th>\n",
       "      <th>cid</th>\n",
       "      <th>price</th>\n",
       "      <th>subs</th>\n",
       "      <th>reviews</th>\n",
       "      <th>lectures</th>\n",
       "      <th>rating</th>\n",
       "      <th>time</th>\n",
       "    </tr>\n",
       "  </thead>\n",
       "  <tbody>\n",
       "    <tr>\n",
       "      <th>count</th>\n",
       "      <td>3.676000e+03</td>\n",
       "      <td>3676.000000</td>\n",
       "      <td>3676.000000</td>\n",
       "      <td>3676.000000</td>\n",
       "      <td>3676.000000</td>\n",
       "      <td>3676.000000</td>\n",
       "      <td>3676.000000</td>\n",
       "    </tr>\n",
       "    <tr>\n",
       "      <th>mean</th>\n",
       "      <td>6.757535e+05</td>\n",
       "      <td>66.115343</td>\n",
       "      <td>3199.260881</td>\n",
       "      <td>156.309848</td>\n",
       "      <td>40.129761</td>\n",
       "      <td>0.610868</td>\n",
       "      <td>4.096137</td>\n",
       "    </tr>\n",
       "    <tr>\n",
       "      <th>std</th>\n",
       "      <td>3.431304e+05</td>\n",
       "      <td>61.056073</td>\n",
       "      <td>9486.582966</td>\n",
       "      <td>935.674518</td>\n",
       "      <td>50.398507</td>\n",
       "      <td>0.334287</td>\n",
       "      <td>6.054948</td>\n",
       "    </tr>\n",
       "    <tr>\n",
       "      <th>min</th>\n",
       "      <td>8.324000e+03</td>\n",
       "      <td>0.000000</td>\n",
       "      <td>0.000000</td>\n",
       "      <td>0.000000</td>\n",
       "      <td>0.000000</td>\n",
       "      <td>0.000000</td>\n",
       "      <td>0.000000</td>\n",
       "    </tr>\n",
       "    <tr>\n",
       "      <th>25%</th>\n",
       "      <td>4.074740e+05</td>\n",
       "      <td>20.000000</td>\n",
       "      <td>112.000000</td>\n",
       "      <td>4.000000</td>\n",
       "      <td>15.000000</td>\n",
       "      <td>0.280000</td>\n",
       "      <td>1.000000</td>\n",
       "    </tr>\n",
       "    <tr>\n",
       "      <th>50%</th>\n",
       "      <td>6.876920e+05</td>\n",
       "      <td>45.000000</td>\n",
       "      <td>912.500000</td>\n",
       "      <td>18.000000</td>\n",
       "      <td>25.000000</td>\n",
       "      <td>0.760000</td>\n",
       "      <td>2.000000</td>\n",
       "    </tr>\n",
       "    <tr>\n",
       "      <th>75%</th>\n",
       "      <td>9.608140e+05</td>\n",
       "      <td>95.000000</td>\n",
       "      <td>2558.000000</td>\n",
       "      <td>67.000000</td>\n",
       "      <td>46.000000</td>\n",
       "      <td>0.930000</td>\n",
       "      <td>4.500000</td>\n",
       "    </tr>\n",
       "    <tr>\n",
       "      <th>max</th>\n",
       "      <td>1.282064e+06</td>\n",
       "      <td>200.000000</td>\n",
       "      <td>268923.000000</td>\n",
       "      <td>27445.000000</td>\n",
       "      <td>779.000000</td>\n",
       "      <td>1.000000</td>\n",
       "      <td>78.500000</td>\n",
       "    </tr>\n",
       "  </tbody>\n",
       "</table>\n",
       "</div>"
      ],
      "text/plain": [
       "                cid        price           subs       reviews     lectures  \\\n",
       "count  3.676000e+03  3676.000000    3676.000000   3676.000000  3676.000000   \n",
       "mean   6.757535e+05    66.115343    3199.260881    156.309848    40.129761   \n",
       "std    3.431304e+05    61.056073    9486.582966    935.674518    50.398507   \n",
       "min    8.324000e+03     0.000000       0.000000      0.000000     0.000000   \n",
       "25%    4.074740e+05    20.000000     112.000000      4.000000    15.000000   \n",
       "50%    6.876920e+05    45.000000     912.500000     18.000000    25.000000   \n",
       "75%    9.608140e+05    95.000000    2558.000000     67.000000    46.000000   \n",
       "max    1.282064e+06   200.000000  268923.000000  27445.000000   779.000000   \n",
       "\n",
       "            rating         time  \n",
       "count  3676.000000  3676.000000  \n",
       "mean      0.610868     4.096137  \n",
       "std       0.334287     6.054948  \n",
       "min       0.000000     0.000000  \n",
       "25%       0.280000     1.000000  \n",
       "50%       0.760000     2.000000  \n",
       "75%       0.930000     4.500000  \n",
       "max       1.000000    78.500000  "
      ]
     },
     "execution_count": 48,
     "metadata": {},
     "output_type": "execute_result"
    }
   ],
   "source": [
    "df.describe()"
   ]
  },
  {
   "cell_type": "code",
   "execution_count": 64,
   "id": "1d6e91da",
   "metadata": {
    "scrolled": true
   },
   "outputs": [
    {
     "data": {
      "text/plain": [
       "<AxesSubplot:xlabel='reviews'>"
      ]
     },
     "execution_count": 64,
     "metadata": {},
     "output_type": "execute_result"
    },
    {
     "data": {
      "image/png": "[encoded data removed]",
      "text/plain": [
       "<Figure size 432x288 with 1 Axes>"
      ]
     },
     "metadata": {
      "needs_background": "light"
     },
     "output_type": "display_data"
    }
   ],
   "source": [
    "sns.boxplot(df['reviews'])"
   ]
  },
  {
   "cell_type": "code",
   "execution_count": 57,
   "id": "6785f189",
   "metadata": {},
   "outputs": [],
   "source": [
    "from scipy.stats import zscore"
   ]
  },
  {
   "cell_type": "code",
   "execution_count": 67,
   "id": "760cfa9e",
   "metadata": {},
   "outputs": [],
   "source": [
    "z=zscore(df['reviews'])"
   ]
  },
  {
   "cell_type": "code",
   "execution_count": 68,
   "id": "4db5617a",
   "metadata": {},
   "outputs": [
    {
     "data": {
      "text/plain": [
       "0        9.056400\n",
       "1        0.131143\n",
       "2       29.168693\n",
       "3        6.165044\n",
       "4       23.788954\n",
       "          ...    \n",
       "3671    -0.167079\n",
       "3672    -0.167079\n",
       "3673    -0.167079\n",
       "3674    -0.167079\n",
       "3675    -0.167079\n",
       "Name: reviews, Length: 3676, dtype: float64"
      ]
     },
     "execution_count": 68,
     "metadata": {},
     "output_type": "execute_result"
    }
   ],
   "source": [
    "z"
   ]
  },
  {
   "cell_type": "code",
   "execution_count": 65,
   "id": "2e0fc913",
   "metadata": {},
   "outputs": [
    {
     "data": {
      "text/plain": [
       "cid          27\n",
       "title        27\n",
       "url          27\n",
       "price        27\n",
       "subs         27\n",
       "reviews      27\n",
       "lectures     27\n",
       "lvl          27\n",
       "rating       27\n",
       "time         27\n",
       "timestamp    27\n",
       "sub          27\n",
       "date         27\n",
       "type         27\n",
       "dtype: int64"
      ]
     },
     "execution_count": 65,
     "metadata": {},
     "output_type": "execute_result"
    }
   ],
   "source": [
    "df[zscore(df['reviews'])>3].count()"
   ]
  },
  {
   "cell_type": "code",
   "execution_count": 69,
   "id": "10ad4a29",
   "metadata": {},
   "outputs": [
    {
     "data": {
      "text/plain": [
       "<AxesSubplot:xlabel='lectures'>"
      ]
     },
     "execution_count": 69,
     "metadata": {},
     "output_type": "execute_result"
    },
    {
     "data": {
      "image/png": "[encoded data removed]",
      "text/plain": [
       "<Figure size 432x288 with 1 Axes>"
      ]
     },
     "metadata": {
      "needs_background": "light"
     },
     "output_type": "display_data"
    }
   ],
   "source": [
    "sns.boxplot(df['lectures'])"
   ]
  },
  {
   "cell_type": "code",
   "execution_count": 70,
   "id": "6608918b",
   "metadata": {},
   "outputs": [],
   "source": [
    "from scipy.stats import zscore"
   ]
  },
  {
   "cell_type": "code",
   "execution_count": 71,
   "id": "14a06b0e",
   "metadata": {},
   "outputs": [
    {
     "data": {
      "text/plain": [
       "0       0.096648\n",
       "1      -0.260554\n",
       "2       5.990481\n",
       "3      -0.201021\n",
       "4       5.236388\n",
       "          ...   \n",
       "3671   -0.439155\n",
       "3672   -0.617756\n",
       "3673   -0.558223\n",
       "3674   -0.617756\n",
       "3675   -0.597912\n",
       "Name: lectures, Length: 3676, dtype: float64"
      ]
     },
     "execution_count": 71,
     "metadata": {},
     "output_type": "execute_result"
    }
   ],
   "source": [
    "zscore(df['lectures'])"
   ]
  },
  {
   "cell_type": "code",
   "execution_count": 73,
   "id": "aac2bb7b",
   "metadata": {},
   "outputs": [
    {
     "data": {
      "text/html": [
       "<div>\n",
       "<style scoped>\n",
       "    .dataframe tbody tr th:only-of-type {\n",
       "        vertical-align: middle;\n",
       "    }\n",
       "\n",
       "    .dataframe tbody tr th {\n",
       "        vertical-align: top;\n",
       "    }\n",
       "\n",
       "    .dataframe thead th {\n",
       "        text-align: right;\n",
       "    }\n",
       "</style>\n",
       "<table border=\"1\" class=\"dataframe\">\n",
       "  <thead>\n",
       "    <tr style=\"text-align: right;\">\n",
       "      <th></th>\n",
       "      <th>cid</th>\n",
       "      <th>title</th>\n",
       "      <th>url</th>\n",
       "      <th>price</th>\n",
       "      <th>subs</th>\n",
       "      <th>reviews</th>\n",
       "      <th>lectures</th>\n",
       "      <th>lvl</th>\n",
       "      <th>rating</th>\n",
       "      <th>time</th>\n",
       "      <th>timestamp</th>\n",
       "      <th>sub</th>\n",
       "      <th>date</th>\n",
       "      <th>type</th>\n",
       "    </tr>\n",
       "  </thead>\n",
       "  <tbody>\n",
       "    <tr>\n",
       "      <th>2</th>\n",
       "      <td>625204</td>\n",
       "      <td>The Web Developer Bootcamp</td>\n",
       "      <td>https://www.udemy.com/the-web-developer-bootcamp/</td>\n",
       "      <td>200</td>\n",
       "      <td>121584</td>\n",
       "      <td>27445</td>\n",
       "      <td>342</td>\n",
       "      <td>Beginner Level</td>\n",
       "      <td>0.89</td>\n",
       "      <td>43.0</td>\n",
       "      <td>2015-11-02T21:13:27Z</td>\n",
       "      <td>Web Development</td>\n",
       "      <td>2015-11-02</td>\n",
       "      <td>Paid</td>\n",
       "    </tr>\n",
       "    <tr>\n",
       "      <th>4</th>\n",
       "      <td>764164</td>\n",
       "      <td>The Complete Web Developer Course 2.0</td>\n",
       "      <td>https://www.udemy.com/the-complete-web-develop...</td>\n",
       "      <td>200</td>\n",
       "      <td>114512</td>\n",
       "      <td>22412</td>\n",
       "      <td>304</td>\n",
       "      <td>Beginner Level</td>\n",
       "      <td>0.55</td>\n",
       "      <td>30.5</td>\n",
       "      <td>2016-03-08T22:28:36Z</td>\n",
       "      <td>Web Development</td>\n",
       "      <td>2016-03-08</td>\n",
       "      <td>Paid</td>\n",
       "    </tr>\n",
       "    <tr>\n",
       "      <th>10</th>\n",
       "      <td>238934</td>\n",
       "      <td>Pianoforall - Incredible New Way To Learn Pian...</td>\n",
       "      <td>https://www.udemy.com/pianoforall-incredible-n...</td>\n",
       "      <td>200</td>\n",
       "      <td>75499</td>\n",
       "      <td>7676</td>\n",
       "      <td>362</td>\n",
       "      <td>Beginner Level</td>\n",
       "      <td>0.96</td>\n",
       "      <td>30.0</td>\n",
       "      <td>2014-08-07T06:27:51Z</td>\n",
       "      <td>Musical Instruments</td>\n",
       "      <td>2014-08-07</td>\n",
       "      <td>Paid</td>\n",
       "    </tr>\n",
       "    <tr>\n",
       "      <th>11</th>\n",
       "      <td>756150</td>\n",
       "      <td>Angular 4 (formerly Angular 2) - The Complete ...</td>\n",
       "      <td>https://www.udemy.com/the-complete-guide-to-an...</td>\n",
       "      <td>190</td>\n",
       "      <td>73783</td>\n",
       "      <td>19649</td>\n",
       "      <td>329</td>\n",
       "      <td>Beginner Level</td>\n",
       "      <td>0.90</td>\n",
       "      <td>22.0</td>\n",
       "      <td>2016-02-11T07:29:29Z</td>\n",
       "      <td>Web Development</td>\n",
       "      <td>2016-02-11</td>\n",
       "      <td>Paid</td>\n",
       "    </tr>\n",
       "    <tr>\n",
       "      <th>15</th>\n",
       "      <td>11174</td>\n",
       "      <td>Become a Web Developer from Scratch</td>\n",
       "      <td>https://www.udemy.com/how-to-become-a-web-deve...</td>\n",
       "      <td>120</td>\n",
       "      <td>69186</td>\n",
       "      <td>2408</td>\n",
       "      <td>197</td>\n",
       "      <td>All Levels</td>\n",
       "      <td>0.61</td>\n",
       "      <td>27.5</td>\n",
       "      <td>2011-11-19T21:51:20Z</td>\n",
       "      <td>Web Development</td>\n",
       "      <td>2011-11-19</td>\n",
       "      <td>Paid</td>\n",
       "    </tr>\n",
       "    <tr>\n",
       "      <th>...</th>\n",
       "      <td>...</td>\n",
       "      <td>...</td>\n",
       "      <td>...</td>\n",
       "      <td>...</td>\n",
       "      <td>...</td>\n",
       "      <td>...</td>\n",
       "      <td>...</td>\n",
       "      <td>...</td>\n",
       "      <td>...</td>\n",
       "      <td>...</td>\n",
       "      <td>...</td>\n",
       "      <td>...</td>\n",
       "      <td>...</td>\n",
       "      <td>...</td>\n",
       "    </tr>\n",
       "    <tr>\n",
       "      <th>3059</th>\n",
       "      <td>1066002</td>\n",
       "      <td>Leve a sua técnica de pedal duplo para um novo...</td>\n",
       "      <td>https://www.udemy.com/leve-a-sua-tecnica-de-pe...</td>\n",
       "      <td>40</td>\n",
       "      <td>42</td>\n",
       "      <td>4</td>\n",
       "      <td>196</td>\n",
       "      <td>All Levels</td>\n",
       "      <td>0.30</td>\n",
       "      <td>5.5</td>\n",
       "      <td>2017-01-16T15:41:04Z</td>\n",
       "      <td>Musical Instruments</td>\n",
       "      <td>2017-01-16</td>\n",
       "      <td>Paid</td>\n",
       "    </tr>\n",
       "    <tr>\n",
       "      <th>3171</th>\n",
       "      <td>1147664</td>\n",
       "      <td>Photoshop CC Eğitim Seti (YENİ)</td>\n",
       "      <td>https://www.udemy.com/photoshop-cc-egitim-seti...</td>\n",
       "      <td>100</td>\n",
       "      <td>27</td>\n",
       "      <td>5</td>\n",
       "      <td>202</td>\n",
       "      <td>All Levels</td>\n",
       "      <td>0.79</td>\n",
       "      <td>16.0</td>\n",
       "      <td>2017-03-30T22:26:26Z</td>\n",
       "      <td>Graphic Design</td>\n",
       "      <td>2017-03-30</td>\n",
       "      <td>Paid</td>\n",
       "    </tr>\n",
       "    <tr>\n",
       "      <th>3174</th>\n",
       "      <td>907716</td>\n",
       "      <td>International Tax - Tax Beyond boundaries</td>\n",
       "      <td>https://www.udemy.com/international-tax-course...</td>\n",
       "      <td>100</td>\n",
       "      <td>27</td>\n",
       "      <td>6</td>\n",
       "      <td>235</td>\n",
       "      <td>All Levels</td>\n",
       "      <td>0.78</td>\n",
       "      <td>19.5</td>\n",
       "      <td>2016-09-06T15:03:27Z</td>\n",
       "      <td>Business Finance</td>\n",
       "      <td>2016-09-06</td>\n",
       "      <td>Paid</td>\n",
       "    </tr>\n",
       "    <tr>\n",
       "      <th>3191</th>\n",
       "      <td>1048182</td>\n",
       "      <td>Coach Guitar - Apprendre la GUITARE facile ave...</td>\n",
       "      <td>https://www.udemy.com/coach-guitar-apprendre-l...</td>\n",
       "      <td>50</td>\n",
       "      <td>25</td>\n",
       "      <td>1</td>\n",
       "      <td>321</td>\n",
       "      <td>Beginner Level</td>\n",
       "      <td>0.15</td>\n",
       "      <td>3.5</td>\n",
       "      <td>2016-12-27T14:51:32Z</td>\n",
       "      <td>Musical Instruments</td>\n",
       "      <td>2016-12-27</td>\n",
       "      <td>Paid</td>\n",
       "    </tr>\n",
       "    <tr>\n",
       "      <th>3327</th>\n",
       "      <td>1025536</td>\n",
       "      <td>Coach Guitar - Amazing New Way To Learn Guitar...</td>\n",
       "      <td>https://www.udemy.com/coach-guitar-amazing-new...</td>\n",
       "      <td>50</td>\n",
       "      <td>12</td>\n",
       "      <td>0</td>\n",
       "      <td>321</td>\n",
       "      <td>All Levels</td>\n",
       "      <td>0.06</td>\n",
       "      <td>3.5</td>\n",
       "      <td>2016-12-27T14:50:10Z</td>\n",
       "      <td>Musical Instruments</td>\n",
       "      <td>2016-12-27</td>\n",
       "      <td>Paid</td>\n",
       "    </tr>\n",
       "  </tbody>\n",
       "</table>\n",
       "<p>73 rows × 14 columns</p>\n",
       "</div>"
      ],
      "text/plain": [
       "          cid                                              title  \\\n",
       "2      625204                         The Web Developer Bootcamp   \n",
       "4      764164              The Complete Web Developer Course 2.0   \n",
       "10     238934  Pianoforall - Incredible New Way To Learn Pian...   \n",
       "11     756150  Angular 4 (formerly Angular 2) - The Complete ...   \n",
       "15      11174                Become a Web Developer from Scratch   \n",
       "...       ...                                                ...   \n",
       "3059  1066002  Leve a sua técnica de pedal duplo para um novo...   \n",
       "3171  1147664                    Photoshop CC Eğitim Seti (YENİ)   \n",
       "3174   907716          International Tax - Tax Beyond boundaries   \n",
       "3191  1048182  Coach Guitar - Apprendre la GUITARE facile ave...   \n",
       "3327  1025536  Coach Guitar - Amazing New Way To Learn Guitar...   \n",
       "\n",
       "                                                    url  price    subs  \\\n",
       "2     https://www.udemy.com/the-web-developer-bootcamp/    200  121584   \n",
       "4     https://www.udemy.com/the-complete-web-develop...    200  114512   \n",
       "10    https://www.udemy.com/pianoforall-incredible-n...    200   75499   \n",
       "11    https://www.udemy.com/the-complete-guide-to-an...    190   73783   \n",
       "15    https://www.udemy.com/how-to-become-a-web-deve...    120   69186   \n",
       "...                                                 ...    ...     ...   \n",
       "3059  https://www.udemy.com/leve-a-sua-tecnica-de-pe...     40      42   \n",
       "3171  https://www.udemy.com/photoshop-cc-egitim-seti...    100      27   \n",
       "3174  https://www.udemy.com/international-tax-course...    100      27   \n",
       "3191  https://www.udemy.com/coach-guitar-apprendre-l...     50      25   \n",
       "3327  https://www.udemy.com/coach-guitar-amazing-new...     50      12   \n",
       "\n",
       "      reviews  lectures             lvl  rating  time             timestamp  \\\n",
       "2       27445       342  Beginner Level    0.89  43.0  2015-11-02T21:13:27Z   \n",
       "4       22412       304  Beginner Level    0.55  30.5  2016-03-08T22:28:36Z   \n",
       "10       7676       362  Beginner Level    0.96  30.0  2014-08-07T06:27:51Z   \n",
       "11      19649       329  Beginner Level    0.90  22.0  2016-02-11T07:29:29Z   \n",
       "15       2408       197      All Levels    0.61  27.5  2011-11-19T21:51:20Z   \n",
       "...       ...       ...             ...     ...   ...                   ...   \n",
       "3059        4       196      All Levels    0.30   5.5  2017-01-16T15:41:04Z   \n",
       "3171        5       202      All Levels    0.79  16.0  2017-03-30T22:26:26Z   \n",
       "3174        6       235      All Levels    0.78  19.5  2016-09-06T15:03:27Z   \n",
       "3191        1       321  Beginner Level    0.15   3.5  2016-12-27T14:51:32Z   \n",
       "3327        0       321      All Levels    0.06   3.5  2016-12-27T14:50:10Z   \n",
       "\n",
       "                      sub       date  type  \n",
       "2         Web Development 2015-11-02  Paid  \n",
       "4         Web Development 2016-03-08  Paid  \n",
       "10    Musical Instruments 2014-08-07  Paid  \n",
       "11        Web Development 2016-02-11  Paid  \n",
       "15        Web Development 2011-11-19  Paid  \n",
       "...                   ...        ...   ...  \n",
       "3059  Musical Instruments 2017-01-16  Paid  \n",
       "3171       Graphic Design 2017-03-30  Paid  \n",
       "3174     Business Finance 2016-09-06  Paid  \n",
       "3191  Musical Instruments 2016-12-27  Paid  \n",
       "3327  Musical Instruments 2016-12-27  Paid  \n",
       "\n",
       "[73 rows x 14 columns]"
      ]
     },
     "execution_count": 73,
     "metadata": {},
     "output_type": "execute_result"
    }
   ],
   "source": [
    "df[zscore(df['lectures'])>3]"
   ]
  },
  {
   "cell_type": "code",
   "execution_count": 81,
   "id": "2d2e56a8",
   "metadata": {},
   "outputs": [
    {
     "data": {
      "text/plain": [
       "cid          73\n",
       "title        73\n",
       "url          73\n",
       "price        73\n",
       "subs         73\n",
       "reviews      73\n",
       "lectures     73\n",
       "lvl          73\n",
       "rating       73\n",
       "time         73\n",
       "timestamp    73\n",
       "sub          73\n",
       "date         73\n",
       "type         73\n",
       "dtype: int64"
      ]
     },
     "execution_count": 81,
     "metadata": {},
     "output_type": "execute_result"
    }
   ],
   "source": [
    "df[zscore(df['lectures'])>3].count()"
   ]
  },
  {
   "cell_type": "code",
   "execution_count": 82,
   "id": "3d46b449",
   "metadata": {},
   "outputs": [
    {
     "data": {
      "text/plain": [
       "<AxesSubplot:xlabel='time'>"
      ]
     },
     "execution_count": 82,
     "metadata": {},
     "output_type": "execute_result"
    },
    {
     "data": {
      "image/png": "[encoded data removed]",
      "text/plain": [
       "<Figure size 432x288 with 1 Axes>"
      ]
     },
     "metadata": {
      "needs_background": "light"
     },
     "output_type": "display_data"
    }
   ],
   "source": [
    "sns.boxplot(df['time'])"
   ]
  },
  {
   "cell_type": "code",
   "execution_count": 80,
   "id": "3bdf7072",
   "metadata": {},
   "outputs": [],
   "source": [
    "from scipy.stats import zscore"
   ]
  },
  {
   "cell_type": "code",
   "execution_count": 88,
   "id": "7227f3e3",
   "metadata": {},
   "outputs": [
    {
     "data": {
      "text/plain": [
       "0       1.057769\n",
       "1      -0.098468\n",
       "2       6.426010\n",
       "3      -0.181056\n",
       "4       4.361302\n",
       "          ...   \n",
       "3671   -0.346233\n",
       "3672   -0.263645\n",
       "3673   -0.511410\n",
       "3674   -0.346233\n",
       "3675   -0.428821\n",
       "Name: time, Length: 3676, dtype: float64"
      ]
     },
     "execution_count": 88,
     "metadata": {},
     "output_type": "execute_result"
    }
   ],
   "source": [
    "zscore(df['time'])"
   ]
  },
  {
   "cell_type": "code",
   "execution_count": 90,
   "id": "ec7f858d",
   "metadata": {},
   "outputs": [
    {
     "data": {
      "text/plain": [
       "cid          69\n",
       "title        69\n",
       "url          69\n",
       "price        69\n",
       "subs         69\n",
       "reviews      69\n",
       "lectures     69\n",
       "lvl          69\n",
       "rating       69\n",
       "time         69\n",
       "timestamp    69\n",
       "sub          69\n",
       "date         69\n",
       "type         69\n",
       "dtype: int64"
      ]
     },
     "execution_count": 90,
     "metadata": {},
     "output_type": "execute_result"
    }
   ],
   "source": [
    "df[zscore(df['time'])>3].count()"
   ]
  },
  {
   "cell_type": "code",
   "execution_count": 91,
   "id": "50dd8606",
   "metadata": {},
   "outputs": [
    {
     "data": {
      "text/plain": [
       "<AxesSubplot:xlabel='rating'>"
      ]
     },
     "execution_count": 91,
     "metadata": {},
     "output_type": "execute_result"
    },
    {
     "data": {
      "image/png": "[encoded data removed]",
      "text/plain": [
       "<Figure size 432x288 with 1 Axes>"
      ]
     },
     "metadata": {
      "needs_background": "light"
     },
     "output_type": "display_data"
    }
   ],
   "source": [
    "sns.boxplot(df['rating'])"
   ]
  },
  {
   "cell_type": "code",
   "execution_count": 92,
   "id": "38c338fc",
   "metadata": {},
   "outputs": [],
   "source": [
    "from scipy.stats import zscore"
   ]
  },
  {
   "cell_type": "code",
   "execution_count": 93,
   "id": "bb97eb25",
   "metadata": {},
   "outputs": [
    {
     "data": {
      "text/plain": [
       "0       0.625692\n",
       "1       0.236752\n",
       "2       0.835121\n",
       "3       0.506018\n",
       "4      -0.182107\n",
       "          ...   \n",
       "3671    1.014632\n",
       "3672    1.014632\n",
       "3673   -0.750559\n",
       "3674   -1.378847\n",
       "3675   -1.289091\n",
       "Name: rating, Length: 3676, dtype: float64"
      ]
     },
     "execution_count": 93,
     "metadata": {},
     "output_type": "execute_result"
    }
   ],
   "source": [
    "zscore(df['rating'])"
   ]
  },
  {
   "cell_type": "code",
   "execution_count": 94,
   "id": "d675b178",
   "metadata": {},
   "outputs": [
    {
     "data": {
      "text/plain": [
       "cid          0\n",
       "title        0\n",
       "url          0\n",
       "price        0\n",
       "subs         0\n",
       "reviews      0\n",
       "lectures     0\n",
       "lvl          0\n",
       "rating       0\n",
       "time         0\n",
       "timestamp    0\n",
       "sub          0\n",
       "date         0\n",
       "type         0\n",
       "dtype: int64"
      ]
     },
     "execution_count": 94,
     "metadata": {},
     "output_type": "execute_result"
    }
   ],
   "source": [
    "df[zscore(df['rating'])>3].count()"
   ]
  },
  {
   "cell_type": "code",
   "execution_count": 96,
   "id": "fcd39cf5",
   "metadata": {},
   "outputs": [
    {
     "data": {
      "text/plain": [
       "66.11534276387377"
      ]
     },
     "execution_count": 96,
     "metadata": {},
     "output_type": "execute_result"
    }
   ],
   "source": [
    "np.mean(df['price'])"
   ]
  },
  {
   "cell_type": "code",
   "execution_count": 98,
   "id": "7b53bb90",
   "metadata": {},
   "outputs": [
    {
     "data": {
      "text/plain": [
       "50.0"
      ]
     },
     "execution_count": 98,
     "metadata": {},
     "output_type": "execute_result"
    }
   ],
   "source": [
    "np.percentile(df['price'],60)"
   ]
  },
  {
   "cell_type": "code",
   "execution_count": 99,
   "id": "bccce7fd",
   "metadata": {},
   "outputs": [
    {
     "data": {
      "text/plain": [
       "45.0"
      ]
     },
     "execution_count": 99,
     "metadata": {},
     "output_type": "execute_result"
    }
   ],
   "source": [
    "np.percentile(df['price'], 50)"
   ]
  },
  {
   "cell_type": "code",
   "execution_count": 100,
   "id": "5528dda7",
   "metadata": {},
   "outputs": [
    {
     "data": {
      "text/plain": [
       "45.0"
      ]
     },
     "execution_count": 100,
     "metadata": {},
     "output_type": "execute_result"
    }
   ],
   "source": [
    "np.median(df['price'])"
   ]
  },
  {
   "cell_type": "code",
   "execution_count": 101,
   "id": "1d54f30d",
   "metadata": {},
   "outputs": [
    {
     "data": {
      "text/plain": [
       "200"
      ]
     },
     "execution_count": 101,
     "metadata": {},
     "output_type": "execute_result"
    }
   ],
   "source": [
    "np.max(df['price'])"
   ]
  },
  {
   "cell_type": "code",
   "execution_count": 102,
   "id": "8f82b967",
   "metadata": {},
   "outputs": [
    {
     "data": {
      "text/plain": [
       "0"
      ]
     },
     "execution_count": 102,
     "metadata": {},
     "output_type": "execute_result"
    }
   ],
   "source": [
    "np.min(df['price'])"
   ]
  },
  {
   "cell_type": "code",
   "execution_count": 103,
   "id": "56a84718",
   "metadata": {},
   "outputs": [
    {
     "data": {
      "text/plain": [
       "<AxesSubplot:xlabel='price'>"
      ]
     },
     "execution_count": 103,
     "metadata": {},
     "output_type": "execute_result"
    },
    {
     "data": {
      "image/png": "[encoded data removed]",
      "text/plain": [
       "<Figure size 432x288 with 1 Axes>"
      ]
     },
     "metadata": {
      "needs_background": "light"
     },
     "output_type": "display_data"
    }
   ],
   "source": [
    "sns.boxplot(df['price'])"
   ]
  },
  {
   "cell_type": "code",
   "execution_count": 104,
   "id": "c0fa884a",
   "metadata": {},
   "outputs": [],
   "source": [
    "a=np.percentile(df['price'], 25)"
   ]
  },
  {
   "cell_type": "code",
   "execution_count": 105,
   "id": "450f34c3",
   "metadata": {},
   "outputs": [
    {
     "data": {
      "text/plain": [
       "20.0"
      ]
     },
     "execution_count": 105,
     "metadata": {},
     "output_type": "execute_result"
    }
   ],
   "source": [
    "a"
   ]
  },
  {
   "cell_type": "code",
   "execution_count": 106,
   "id": "57927669",
   "metadata": {},
   "outputs": [],
   "source": [
    "b=np.percentile(df['price'], 75)"
   ]
  },
  {
   "cell_type": "code",
   "execution_count": 107,
   "id": "35582f63",
   "metadata": {},
   "outputs": [
    {
     "data": {
      "text/plain": [
       "95.0"
      ]
     },
     "execution_count": 107,
     "metadata": {},
     "output_type": "execute_result"
    }
   ],
   "source": [
    "b"
   ]
  },
  {
   "cell_type": "code",
   "execution_count": 108,
   "id": "6ec51457",
   "metadata": {},
   "outputs": [],
   "source": [
    "iqr=b-a"
   ]
  },
  {
   "cell_type": "code",
   "execution_count": 109,
   "id": "4e93efbf",
   "metadata": {},
   "outputs": [
    {
     "data": {
      "text/plain": [
       "75.0"
      ]
     },
     "execution_count": 109,
     "metadata": {},
     "output_type": "execute_result"
    }
   ],
   "source": [
    "iqr"
   ]
  },
  {
   "cell_type": "code",
   "execution_count": 110,
   "id": "c1623fd9",
   "metadata": {},
   "outputs": [],
   "source": [
    "line=1.5*iqr"
   ]
  },
  {
   "cell_type": "code",
   "execution_count": 111,
   "id": "b727017b",
   "metadata": {},
   "outputs": [
    {
     "data": {
      "text/plain": [
       "112.5"
      ]
     },
     "execution_count": 111,
     "metadata": {},
     "output_type": "execute_result"
    }
   ],
   "source": [
    "line"
   ]
  },
  {
   "cell_type": "code",
   "execution_count": 112,
   "id": "e3b79f2b",
   "metadata": {},
   "outputs": [
    {
     "data": {
      "text/plain": [
       "187.5"
      ]
     },
     "execution_count": 112,
     "metadata": {},
     "output_type": "execute_result"
    }
   ],
   "source": [
    "112.5+75"
   ]
  },
  {
   "cell_type": "code",
   "execution_count": 113,
   "id": "b1b2304b",
   "metadata": {},
   "outputs": [
    {
     "data": {
      "text/plain": [
       "200"
      ]
     },
     "execution_count": 113,
     "metadata": {},
     "output_type": "execute_result"
    }
   ],
   "source": [
    "np.max(df['price'])"
   ]
  },
  {
   "cell_type": "code",
   "execution_count": 114,
   "id": "136b827d",
   "metadata": {},
   "outputs": [
    {
     "data": {
      "text/plain": [
       "0"
      ]
     },
     "execution_count": 114,
     "metadata": {},
     "output_type": "execute_result"
    }
   ],
   "source": [
    "np.min(df['price'])"
   ]
  },
  {
   "cell_type": "code",
   "execution_count": 115,
   "id": "4c83f20c",
   "metadata": {},
   "outputs": [
    {
     "data": {
      "text/plain": [
       "66.11534276387377"
      ]
     },
     "execution_count": 115,
     "metadata": {},
     "output_type": "execute_result"
    }
   ],
   "source": [
    "np.mean(df['price'])"
   ]
  },
  {
   "cell_type": "code",
   "execution_count": 116,
   "id": "73910b95",
   "metadata": {},
   "outputs": [
    {
     "data": {
      "text/plain": [
       "61.04776821465374"
      ]
     },
     "execution_count": 116,
     "metadata": {},
     "output_type": "execute_result"
    }
   ],
   "source": [
    "np.std(df['price'])"
   ]
  },
  {
   "cell_type": "code",
   "execution_count": 118,
   "id": "21f4edd2",
   "metadata": {},
   "outputs": [],
   "source": [
    "var=np.var(df['price'])"
   ]
  },
  {
   "cell_type": "code",
   "execution_count": 119,
   "id": "3f1607f7",
   "metadata": {},
   "outputs": [
    {
     "data": {
      "text/plain": [
       "61.04776821465374"
      ]
     },
     "execution_count": 119,
     "metadata": {},
     "output_type": "execute_result"
    }
   ],
   "source": [
    "np.sqrt(var)"
   ]
  },
  {
   "cell_type": "code",
   "execution_count": null,
   "id": "ce4505c0",
   "metadata": {},
   "outputs": [],
   "source": []
  }
 ],
 "metadata": {
  "kernelspec": {
   "display_name": "Python 3 (ipykernel)",
   "language": "python",
   "name": "python3"
  },
  "language_info": {
   "codemirror_mode": {
    "name": "ipython",
    "version": 3
   },
   "file_extension": ".py",
   "mimetype": "text/x-python",
   "name": "python",
   "nbconvert_exporter": "python",
   "pygments_lexer": "ipython3",
   "version": "3.9.12"
  }
 },
 "nbformat": 4,
 "nbformat_minor": 5
}
